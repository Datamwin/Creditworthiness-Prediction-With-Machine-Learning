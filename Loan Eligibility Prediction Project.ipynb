{
 "cells": [
  {
   "cell_type": "markdown",
   "metadata": {},
   "source": [
    "# Loan Eligibility Prediction Project"
   ]
  },
  {
   "cell_type": "markdown",
   "metadata": {},
   "source": [
    "### Project Objectives\n",
    "This project is to build a **Machine Learning Model** to assist a bank that has received loan applications than it typically receives to predict applicants who are eligible (Creditworthy) for the loan and those that are not.\n",
    "\n",
    "Besides the prediction, the management team wants to know important features used  by the model for further decisons.\n",
    "\n",
    "### Table of Content\n",
    "1. [Data importation](#1.Data-gathering-and-cleaning)\n",
    "\n",
    "2. [Exploratory data analysis, data cleaning, and Feature engineering](#2.Exploratory-data-analysis,data-cleaning,and-Feature-engineering)\n",
    "\n",
    "3. [Data preprocessing for modelling](#3.Data-preprocessing-for-modelling)\n",
    "\n",
    "4. [Building different Classification models](#4.Building-of-Models)\n",
    "\n",
    "5. [Model Evaluation](#5.Model-Evaluation-and-Comparison)\n",
    "\n",
    "6. [Model selection](#6.Implementing-the-best-Best-model-with-test-data)\n",
    "\n",
    "7. [Feature importance](#7.Feature-Importance)\n",
    "\n",
    "8. [Summary](#8.Summary)\n",
    "\n"
   ]
  },
  {
   "cell_type": "code",
   "execution_count": null,
   "metadata": {},
   "outputs": [],
   "source": [
    "\n",
    "\n",
    "\n"
   ]
  },
  {
   "cell_type": "markdown",
   "metadata": {},
   "source": [
    "## Importing the needed packages"
   ]
  },
  {
   "cell_type": "code",
   "execution_count": 1,
   "metadata": {},
   "outputs": [],
   "source": [
    "import pandas as pd\n",
    "import numpy as np\n",
    "import matplotlib.pyplot as plt\n",
    "import seaborn as sns\n",
    "import sklearn\n",
    "from bioinfokit.analys import stat\n",
    "import warnings\n",
    "warnings.filterwarnings('ignore')\n",
    "%matplotlib inline\n",
    "pd.set_option('display.max_colwidth',None)\n",
    "pd.set_option('display.max_columns',None)"
   ]
  },
  {
   "cell_type": "code",
   "execution_count": 2,
   "metadata": {},
   "outputs": [],
   "source": [
    "# Importing the needed classes for building models,validation, and metrics.\n",
    "\n",
    "from sklearn.model_selection import train_test_split\n",
    "from sklearn.model_selection import cross_val_score\n",
    "\n",
    "from sklearn.linear_model import LogisticRegression\n",
    "from sklearn.tree import DecisionTreeClassifier\n",
    "from sklearn.neighbors import KNeighborsClassifier \n",
    "from sklearn.svm import SVC \n",
    "\n",
    "from sklearn.ensemble import VotingClassifier\n",
    "from sklearn.ensemble import BaggingClassifier\n",
    "from sklearn.ensemble import RandomForestClassifier\n",
    "from sklearn.ensemble import GradientBoostingClassifier\n",
    "from sklearn.ensemble import AdaBoostClassifier\n",
    "\n",
    "from sklearn.preprocessing import MinMaxScaler\n",
    "from sklearn.preprocessing import StandardScaler\n",
    "from sklearn.preprocessing import RobustScaler\n",
    "#\n",
    "from sklearn.pipeline import Pipeline\n",
    "from sklearn.pipeline import make_pipeline\n",
    "from sklearn.model_selection import GridSearchCV\n",
    "\n",
    "from sklearn.metrics import confusion_matrix\n",
    "from sklearn.metrics import roc_auc_score\n",
    "from sklearn.metrics import roc_curve\n",
    "from sklearn.metrics import accuracy_score\n",
    "from sklearn.metrics import f1_score"
   ]
  },
  {
   "cell_type": "markdown",
   "metadata": {},
   "source": [
    "## 1.Data-gathering-and-cleaning\n",
    "\n",
    "#### About the data"
   ]
  },
  {
   "cell_type": "code",
   "execution_count": 3,
   "metadata": {
    "scrolled": true
   },
   "outputs": [
    {
     "name": "stdout",
     "output_type": "stream",
     "text": [
      "The train dataset has 500 rows, 20 columns\n"
     ]
    }
   ],
   "source": [
    "train = pd.read_excel('credit-data-training.xlsx')\n",
    "print('The train dataset has {} rows, {} columns'.format(train.shape[0],train.shape[1]))"
   ]
  },
  {
   "cell_type": "code",
   "execution_count": 4,
   "metadata": {},
   "outputs": [
    {
     "name": "stdout",
     "output_type": "stream",
     "text": [
      "Requirement already satisfied: openpyxl in c:\\users\\owner\\anaconda3\\envs\\loan_project\\lib\\site-packages (3.0.10)\n",
      "Requirement already satisfied: et_xmlfile in c:\\users\\owner\\anaconda3\\envs\\loan_project\\lib\\site-packages (from openpyxl) (1.1.0)\n"
     ]
    }
   ],
   "source": [
    "!pip install openpyxl\n"
   ]
  },
  {
   "cell_type": "markdown",
   "metadata": {},
   "source": [
    "## 2.Exploratory-data-analysis,data-cleaning,and-Feature-engineering"
   ]
  },
  {
   "cell_type": "markdown",
   "metadata": {},
   "source": [
    "### Inspecting the data "
   ]
  },
  {
   "cell_type": "code",
   "execution_count": 5,
   "metadata": {},
   "outputs": [
    {
     "data": {
      "text/html": [
       "<div>\n",
       "<style scoped>\n",
       "    .dataframe tbody tr th:only-of-type {\n",
       "        vertical-align: middle;\n",
       "    }\n",
       "\n",
       "    .dataframe tbody tr th {\n",
       "        vertical-align: top;\n",
       "    }\n",
       "\n",
       "    .dataframe thead th {\n",
       "        text-align: right;\n",
       "    }\n",
       "</style>\n",
       "<table border=\"1\" class=\"dataframe\">\n",
       "  <thead>\n",
       "    <tr style=\"text-align: right;\">\n",
       "      <th></th>\n",
       "      <th>Credit-Application-Result</th>\n",
       "      <th>Account-Balance</th>\n",
       "      <th>Duration-of-Credit-Month</th>\n",
       "      <th>Payment-Status-of-Previous-Credit</th>\n",
       "      <th>Purpose</th>\n",
       "      <th>Credit-Amount</th>\n",
       "      <th>Value-Savings-Stocks</th>\n",
       "      <th>Length-of-current-employment</th>\n",
       "      <th>Instalment-per-cent</th>\n",
       "      <th>Guarantors</th>\n",
       "      <th>Duration-in-Current-address</th>\n",
       "      <th>Most-valuable-available-asset</th>\n",
       "      <th>Age-years</th>\n",
       "      <th>Concurrent-Credits</th>\n",
       "      <th>Type-of-apartment</th>\n",
       "      <th>No-of-Credits-at-this-Bank</th>\n",
       "      <th>Occupation</th>\n",
       "      <th>No-of-dependents</th>\n",
       "      <th>Telephone</th>\n",
       "      <th>Foreign-Worker</th>\n",
       "    </tr>\n",
       "  </thead>\n",
       "  <tbody>\n",
       "    <tr>\n",
       "      <th>0</th>\n",
       "      <td>Creditworthy</td>\n",
       "      <td>Some Balance</td>\n",
       "      <td>4</td>\n",
       "      <td>Paid Up</td>\n",
       "      <td>Other</td>\n",
       "      <td>1494</td>\n",
       "      <td>£100-£1000</td>\n",
       "      <td>&lt; 1yr</td>\n",
       "      <td>1</td>\n",
       "      <td>None</td>\n",
       "      <td>2.0</td>\n",
       "      <td>1</td>\n",
       "      <td>NaN</td>\n",
       "      <td>Other Banks/Depts</td>\n",
       "      <td>2</td>\n",
       "      <td>1</td>\n",
       "      <td>1</td>\n",
       "      <td>2</td>\n",
       "      <td>1</td>\n",
       "      <td>2</td>\n",
       "    </tr>\n",
       "    <tr>\n",
       "      <th>1</th>\n",
       "      <td>Creditworthy</td>\n",
       "      <td>Some Balance</td>\n",
       "      <td>4</td>\n",
       "      <td>Paid Up</td>\n",
       "      <td>Home Related</td>\n",
       "      <td>1494</td>\n",
       "      <td>£100-£1000</td>\n",
       "      <td>&lt; 1yr</td>\n",
       "      <td>1</td>\n",
       "      <td>None</td>\n",
       "      <td>2.0</td>\n",
       "      <td>1</td>\n",
       "      <td>29.0</td>\n",
       "      <td>Other Banks/Depts</td>\n",
       "      <td>2</td>\n",
       "      <td>1</td>\n",
       "      <td>1</td>\n",
       "      <td>2</td>\n",
       "      <td>1</td>\n",
       "      <td>2</td>\n",
       "    </tr>\n",
       "    <tr>\n",
       "      <th>2</th>\n",
       "      <td>Creditworthy</td>\n",
       "      <td>Some Balance</td>\n",
       "      <td>4</td>\n",
       "      <td>No Problems (in this bank)</td>\n",
       "      <td>Home Related</td>\n",
       "      <td>1544</td>\n",
       "      <td>None</td>\n",
       "      <td>1-4 yrs</td>\n",
       "      <td>2</td>\n",
       "      <td>None</td>\n",
       "      <td>1.0</td>\n",
       "      <td>1</td>\n",
       "      <td>42.0</td>\n",
       "      <td>Other Banks/Depts</td>\n",
       "      <td>2</td>\n",
       "      <td>More than 1</td>\n",
       "      <td>1</td>\n",
       "      <td>2</td>\n",
       "      <td>1</td>\n",
       "      <td>1</td>\n",
       "    </tr>\n",
       "    <tr>\n",
       "      <th>3</th>\n",
       "      <td>Creditworthy</td>\n",
       "      <td>Some Balance</td>\n",
       "      <td>4</td>\n",
       "      <td>No Problems (in this bank)</td>\n",
       "      <td>Home Related</td>\n",
       "      <td>3380</td>\n",
       "      <td>None</td>\n",
       "      <td>1-4 yrs</td>\n",
       "      <td>1</td>\n",
       "      <td>None</td>\n",
       "      <td>1.0</td>\n",
       "      <td>1</td>\n",
       "      <td>37.0</td>\n",
       "      <td>Other Banks/Depts</td>\n",
       "      <td>2</td>\n",
       "      <td>1</td>\n",
       "      <td>1</td>\n",
       "      <td>2</td>\n",
       "      <td>1</td>\n",
       "      <td>1</td>\n",
       "    </tr>\n",
       "    <tr>\n",
       "      <th>4</th>\n",
       "      <td>Creditworthy</td>\n",
       "      <td>No Account</td>\n",
       "      <td>6</td>\n",
       "      <td>Paid Up</td>\n",
       "      <td>Home Related</td>\n",
       "      <td>343</td>\n",
       "      <td>None</td>\n",
       "      <td>&lt; 1yr</td>\n",
       "      <td>4</td>\n",
       "      <td>None</td>\n",
       "      <td>1.0</td>\n",
       "      <td>1</td>\n",
       "      <td>27.0</td>\n",
       "      <td>Other Banks/Depts</td>\n",
       "      <td>2</td>\n",
       "      <td>1</td>\n",
       "      <td>1</td>\n",
       "      <td>1</td>\n",
       "      <td>1</td>\n",
       "      <td>1</td>\n",
       "    </tr>\n",
       "  </tbody>\n",
       "</table>\n",
       "</div>"
      ],
      "text/plain": [
       "  Credit-Application-Result Account-Balance  Duration-of-Credit-Month  \\\n",
       "0              Creditworthy    Some Balance                         4   \n",
       "1              Creditworthy    Some Balance                         4   \n",
       "2              Creditworthy    Some Balance                         4   \n",
       "3              Creditworthy    Some Balance                         4   \n",
       "4              Creditworthy      No Account                         6   \n",
       "\n",
       "  Payment-Status-of-Previous-Credit       Purpose  Credit-Amount  \\\n",
       "0                           Paid Up         Other           1494   \n",
       "1                           Paid Up  Home Related           1494   \n",
       "2        No Problems (in this bank)  Home Related           1544   \n",
       "3        No Problems (in this bank)  Home Related           3380   \n",
       "4                           Paid Up  Home Related            343   \n",
       "\n",
       "  Value-Savings-Stocks Length-of-current-employment  Instalment-per-cent  \\\n",
       "0           £100-£1000                        < 1yr                    1   \n",
       "1           £100-£1000                        < 1yr                    1   \n",
       "2                 None                      1-4 yrs                    2   \n",
       "3                 None                      1-4 yrs                    1   \n",
       "4                 None                        < 1yr                    4   \n",
       "\n",
       "  Guarantors  Duration-in-Current-address  Most-valuable-available-asset  \\\n",
       "0       None                          2.0                              1   \n",
       "1       None                          2.0                              1   \n",
       "2       None                          1.0                              1   \n",
       "3       None                          1.0                              1   \n",
       "4       None                          1.0                              1   \n",
       "\n",
       "   Age-years Concurrent-Credits  Type-of-apartment No-of-Credits-at-this-Bank  \\\n",
       "0        NaN  Other Banks/Depts                  2                          1   \n",
       "1       29.0  Other Banks/Depts                  2                          1   \n",
       "2       42.0  Other Banks/Depts                  2                More than 1   \n",
       "3       37.0  Other Banks/Depts                  2                          1   \n",
       "4       27.0  Other Banks/Depts                  2                          1   \n",
       "\n",
       "   Occupation  No-of-dependents  Telephone  Foreign-Worker  \n",
       "0           1                 2          1               2  \n",
       "1           1                 2          1               2  \n",
       "2           1                 2          1               1  \n",
       "3           1                 2          1               1  \n",
       "4           1                 1          1               1  "
      ]
     },
     "execution_count": 5,
     "metadata": {},
     "output_type": "execute_result"
    }
   ],
   "source": [
    "train.head()"
   ]
  },
  {
   "cell_type": "markdown",
   "metadata": {},
   "source": [
    "### Checking the data types of the different columns"
   ]
  },
  {
   "cell_type": "code",
   "execution_count": 6,
   "metadata": {},
   "outputs": [
    {
     "data": {
      "text/plain": [
       "Credit-Application-Result             object\n",
       "Account-Balance                       object\n",
       "Duration-of-Credit-Month               int64\n",
       "Payment-Status-of-Previous-Credit     object\n",
       "Purpose                               object\n",
       "Credit-Amount                          int64\n",
       "Value-Savings-Stocks                  object\n",
       "Length-of-current-employment          object\n",
       "Instalment-per-cent                    int64\n",
       "Guarantors                            object\n",
       "Duration-in-Current-address          float64\n",
       "Most-valuable-available-asset          int64\n",
       "Age-years                            float64\n",
       "Concurrent-Credits                    object\n",
       "Type-of-apartment                      int64\n",
       "No-of-Credits-at-this-Bank            object\n",
       "Occupation                             int64\n",
       "No-of-dependents                       int64\n",
       "Telephone                              int64\n",
       "Foreign-Worker                         int64\n",
       "dtype: object"
      ]
     },
     "execution_count": 6,
     "metadata": {},
     "output_type": "execute_result"
    }
   ],
   "source": [
    "train.dtypes"
   ]
  },
  {
   "cell_type": "markdown",
   "metadata": {},
   "source": [
    "### Checking for missing values"
   ]
  },
  {
   "cell_type": "code",
   "execution_count": 7,
   "metadata": {},
   "outputs": [
    {
     "data": {
      "text/plain": [
       "Credit-Application-Result              0\n",
       "Account-Balance                        0\n",
       "Duration-of-Credit-Month               0\n",
       "Payment-Status-of-Previous-Credit      0\n",
       "Purpose                                0\n",
       "Credit-Amount                          0\n",
       "Value-Savings-Stocks                   0\n",
       "Length-of-current-employment           0\n",
       "Instalment-per-cent                    0\n",
       "Guarantors                             0\n",
       "Duration-in-Current-address          344\n",
       "Most-valuable-available-asset          0\n",
       "Age-years                             12\n",
       "Concurrent-Credits                     0\n",
       "Type-of-apartment                      0\n",
       "No-of-Credits-at-this-Bank             0\n",
       "Occupation                             0\n",
       "No-of-dependents                       0\n",
       "Telephone                              0\n",
       "Foreign-Worker                         0\n",
       "dtype: int64"
      ]
     },
     "execution_count": 7,
     "metadata": {},
     "output_type": "execute_result"
    }
   ],
   "source": [
    "train.isnull().sum()"
   ]
  },
  {
   "cell_type": "code",
   "execution_count": 8,
   "metadata": {
    "scrolled": false
   },
   "outputs": [
    {
     "data": {
      "text/plain": [
       "Credit-Application-Result             0.0\n",
       "Account-Balance                       0.0\n",
       "Duration-of-Credit-Month              0.0\n",
       "Payment-Status-of-Previous-Credit     0.0\n",
       "Purpose                               0.0\n",
       "Credit-Amount                         0.0\n",
       "Value-Savings-Stocks                  0.0\n",
       "Length-of-current-employment          0.0\n",
       "Instalment-per-cent                   0.0\n",
       "Guarantors                            0.0\n",
       "Duration-in-Current-address          68.8\n",
       "Most-valuable-available-asset         0.0\n",
       "Age-years                             2.4\n",
       "Concurrent-Credits                    0.0\n",
       "Type-of-apartment                     0.0\n",
       "No-of-Credits-at-this-Bank            0.0\n",
       "Occupation                            0.0\n",
       "No-of-dependents                      0.0\n",
       "Telephone                             0.0\n",
       "Foreign-Worker                        0.0\n",
       "dtype: float64"
      ]
     },
     "execution_count": 8,
     "metadata": {},
     "output_type": "execute_result"
    }
   ],
   "source": [
    "# missing values in percentage wise\n",
    "(train.isnull().sum()/len(train))*100"
   ]
  },
  {
   "cell_type": "markdown",
   "metadata": {},
   "source": [
    "A brief inspection of the data reveals that two variables (Duration-in-Current-address ans Age-years) contain missing values.\n",
    "\n",
    "The missing values will be handled appropriately.\n",
    "\n",
    "Detailed exploration will be carried out on each columns to help select the right columns for modelling.\n"
   ]
  },
  {
   "cell_type": "code",
   "execution_count": null,
   "metadata": {},
   "outputs": [],
   "source": []
  },
  {
   "cell_type": "code",
   "execution_count": null,
   "metadata": {},
   "outputs": [],
   "source": []
  },
  {
   "cell_type": "markdown",
   "metadata": {},
   "source": [
    "### Inspecting and exploring and cleaning the categorical  variables"
   ]
  },
  {
   "cell_type": "code",
   "execution_count": 9,
   "metadata": {},
   "outputs": [],
   "source": [
    "categorical_var = train.select_dtypes(include = 'object') \n",
    "numerical_var = train.select_dtypes(include = np.number) "
   ]
  },
  {
   "cell_type": "code",
   "execution_count": 10,
   "metadata": {},
   "outputs": [
    {
     "name": "stdout",
     "output_type": "stream",
     "text": [
      "Credit-Application-Result\n",
      "Account-Balance\n",
      "Payment-Status-of-Previous-Credit\n",
      "Purpose\n",
      "Value-Savings-Stocks\n",
      "Length-of-current-employment\n",
      "Guarantors\n",
      "Concurrent-Credits\n",
      "No-of-Credits-at-this-Bank\n"
     ]
    }
   ],
   "source": [
    "# Categorical variables\n",
    "for col in categorical_var.columns:\n",
    "    print(col)"
   ]
  },
  {
   "cell_type": "markdown",
   "metadata": {},
   "source": [
    "###  Creating a function to explore the categorical variables\n",
    "\n",
    "To easily explore the explore, the categorical variables a function created to give a quick numerical and graphical summary."
   ]
  },
  {
   "cell_type": "code",
   "execution_count": 11,
   "metadata": {},
   "outputs": [],
   "source": [
    "# Creating a function to explore the categorical variables\n",
    "def explore_cat(df,x):\n",
    "    '''\n",
    "    This function return a sumaary of a categorical variable\n",
    "    \n",
    "    '''\n",
    "    unique_categories = df[x].nunique()\n",
    "    if unique_categories <=6:\n",
    "        print('Summary')\n",
    "        print('==========')\n",
    "        print(df[x].describe(),'\\n')\n",
    "        sns.countplot(df[x])\n",
    "        plt.show()\n",
    "        print('==============================================')\n",
    "        print('Value counts \\n')\n",
    "        print(df[x].value_counts(),'\\n')\n",
    "        print('==============================================')\n",
    "        print('Missing values: {}'.format(df[x].isnull().sum()))\n",
    "    else:\n",
    "        print('Summary')\n",
    "        print('==========')\n",
    "        print(df[x].describe(),'\\n')\n",
    "        sns.countplot(y=df[x])\n",
    "        plt.show()\n",
    "        print('==============================================')\n",
    "        print('Value counts \\n')\n",
    "        print(df[x].value_counts(),'\\n')\n",
    "        print('==============================================')\n",
    "        print('Missing values: {}'.format(df[x].isnull().sum()))\n",
    "    \n",
    "    \n",
    "    \n",
    "    "
   ]
  },
  {
   "cell_type": "markdown",
   "metadata": {},
   "source": [
    "#### Exploring  Credit-Application-Result"
   ]
  },
  {
   "cell_type": "code",
   "execution_count": 12,
   "metadata": {
    "scrolled": false
   },
   "outputs": [
    {
     "name": "stdout",
     "output_type": "stream",
     "text": [
      "Summary\n",
      "==========\n",
      "count              500\n",
      "unique               2\n",
      "top       Creditworthy\n",
      "freq               358\n",
      "Name: Credit-Application-Result, dtype: object \n",
      "\n"
     ]
    },
    {
     "data": {
      "image/png": "[encoded data removed]",
      "text/plain": [
       "<Figure size 432x288 with 1 Axes>"
      ]
     },
     "metadata": {
      "needs_background": "light"
     },
     "output_type": "display_data"
    },
    {
     "name": "stdout",
     "output_type": "stream",
     "text": [
      "==============================================\n",
      "Value counts \n",
      "\n",
      "Creditworthy        358\n",
      "Non-Creditworthy    142\n",
      "Name: Credit-Application-Result, dtype: int64 \n",
      "\n",
      "==============================================\n",
      "Missing values: 0\n"
     ]
    }
   ],
   "source": [
    "explore_cat(train,'Credit-Application-Result')"
   ]
  },
  {
   "cell_type": "markdown",
   "metadata": {},
   "source": [
    "By exploring the Credit-Application-Result variable, it is observed that there are two unique categories indicating whether applicants were credit worthy or non-creditworthy.\n",
    "\n",
    "Comparatively more applicants were credit worthy.\n",
    "\n",
    "This clearly indicates that the data is not balanced.\n",
    "\n",
    "The exploration also shows that Credit-Application-Result has no missing values."
   ]
  },
  {
   "cell_type": "code",
   "execution_count": null,
   "metadata": {},
   "outputs": [],
   "source": []
  },
  {
   "cell_type": "markdown",
   "metadata": {},
   "source": [
    "### Exploring Account-Balance"
   ]
  },
  {
   "cell_type": "code",
   "execution_count": 13,
   "metadata": {},
   "outputs": [
    {
     "data": {
      "text/plain": [
       "0    Some Balance\n",
       "1    Some Balance\n",
       "2    Some Balance\n",
       "3    Some Balance\n",
       "4      No Account\n",
       "Name: Account-Balance, dtype: object"
      ]
     },
     "execution_count": 13,
     "metadata": {},
     "output_type": "execute_result"
    }
   ],
   "source": [
    "train['Account-Balance'].head()"
   ]
  },
  {
   "cell_type": "code",
   "execution_count": 14,
   "metadata": {},
   "outputs": [
    {
     "name": "stdout",
     "output_type": "stream",
     "text": [
      "Summary\n",
      "==========\n",
      "count            500\n",
      "unique             2\n",
      "top       No Account\n",
      "freq             262\n",
      "Name: Account-Balance, dtype: object \n",
      "\n"
     ]
    },
    {
     "data": {
      "image/png": "[encoded data removed]",
      "text/plain": [
       "<Figure size 432x288 with 1 Axes>"
      ]
     },
     "metadata": {
      "needs_background": "light"
     },
     "output_type": "display_data"
    },
    {
     "name": "stdout",
     "output_type": "stream",
     "text": [
      "==============================================\n",
      "Value counts \n",
      "\n",
      "No Account      262\n",
      "Some Balance    238\n",
      "Name: Account-Balance, dtype: int64 \n",
      "\n",
      "==============================================\n",
      "Missing values: 0\n"
     ]
    }
   ],
   "source": [
    "explore_cat(train,'Account-Balance')"
   ]
  },
  {
   "cell_type": "markdown",
   "metadata": {},
   "source": [
    "From the summary above, Account-Balance has no missing values and the categories are fairly balanced.\n"
   ]
  },
  {
   "cell_type": "markdown",
   "metadata": {},
   "source": [
    "### Exploring Payment-Status-of-Previous-Credit"
   ]
  },
  {
   "cell_type": "code",
   "execution_count": 15,
   "metadata": {},
   "outputs": [
    {
     "data": {
      "text/plain": [
       "0                       Paid Up\n",
       "1                       Paid Up\n",
       "2    No Problems (in this bank)\n",
       "3    No Problems (in this bank)\n",
       "4                       Paid Up\n",
       "Name: Payment-Status-of-Previous-Credit, dtype: object"
      ]
     },
     "execution_count": 15,
     "metadata": {},
     "output_type": "execute_result"
    }
   ],
   "source": [
    "train['Payment-Status-of-Previous-Credit'].head()"
   ]
  },
  {
   "cell_type": "code",
   "execution_count": 16,
   "metadata": {},
   "outputs": [
    {
     "name": "stdout",
     "output_type": "stream",
     "text": [
      "Summary\n",
      "==========\n",
      "count         500\n",
      "unique          3\n",
      "top       Paid Up\n",
      "freq          260\n",
      "Name: Payment-Status-of-Previous-Credit, dtype: object \n",
      "\n"
     ]
    },
    {
     "data": {
      "image/png": "[encoded data removed]",
      "text/plain": [
       "<Figure size 432x288 with 1 Axes>"
      ]
     },
     "metadata": {
      "needs_background": "light"
     },
     "output_type": "display_data"
    },
    {
     "name": "stdout",
     "output_type": "stream",
     "text": [
      "==============================================\n",
      "Value counts \n",
      "\n",
      "Paid Up                       260\n",
      "No Problems (in this bank)    204\n",
      "Some Problems                  36\n",
      "Name: Payment-Status-of-Previous-Credit, dtype: int64 \n",
      "\n",
      "==============================================\n",
      "Missing values: 0\n"
     ]
    }
   ],
   "source": [
    "explore_cat(train,'Payment-Status-of-Previous-Credit')"
   ]
  },
  {
   "cell_type": "markdown",
   "metadata": {},
   "source": [
    "Payment-Status-of-Previous-Credit has three categories with no missing values"
   ]
  },
  {
   "cell_type": "markdown",
   "metadata": {},
   "source": [
    "### Purpose"
   ]
  },
  {
   "cell_type": "code",
   "execution_count": 17,
   "metadata": {},
   "outputs": [
    {
     "data": {
      "text/plain": [
       "0           Other\n",
       "1    Home Related\n",
       "2    Home Related\n",
       "3    Home Related\n",
       "4    Home Related\n",
       "Name: Purpose, dtype: object"
      ]
     },
     "execution_count": 17,
     "metadata": {},
     "output_type": "execute_result"
    }
   ],
   "source": [
    "train['Purpose'].head()"
   ]
  },
  {
   "cell_type": "code",
   "execution_count": 18,
   "metadata": {},
   "outputs": [
    {
     "name": "stdout",
     "output_type": "stream",
     "text": [
      "Summary\n",
      "==========\n",
      "count              500\n",
      "unique               4\n",
      "top       Home Related\n",
      "freq               355\n",
      "Name: Purpose, dtype: object \n",
      "\n"
     ]
    },
    {
     "data": {
      "image/png": "[encoded data removed]",
      "text/plain": [
       "<Figure size 432x288 with 1 Axes>"
      ]
     },
     "metadata": {
      "needs_background": "light"
     },
     "output_type": "display_data"
    },
    {
     "name": "stdout",
     "output_type": "stream",
     "text": [
      "==============================================\n",
      "Value counts \n",
      "\n",
      "Home Related    355\n",
      "Used car         83\n",
      "New car          47\n",
      "Other            15\n",
      "Name: Purpose, dtype: int64 \n",
      "\n",
      "==============================================\n",
      "Missing values: 0\n"
     ]
    }
   ],
   "source": [
    "explore_cat(train,'Purpose')"
   ]
  },
  {
   "cell_type": "code",
   "execution_count": 19,
   "metadata": {},
   "outputs": [
    {
     "data": {
      "text/html": [
       "<div>\n",
       "<style scoped>\n",
       "    .dataframe tbody tr th:only-of-type {\n",
       "        vertical-align: middle;\n",
       "    }\n",
       "\n",
       "    .dataframe tbody tr th {\n",
       "        vertical-align: top;\n",
       "    }\n",
       "\n",
       "    .dataframe thead th {\n",
       "        text-align: right;\n",
       "    }\n",
       "</style>\n",
       "<table border=\"1\" class=\"dataframe\">\n",
       "  <thead>\n",
       "    <tr style=\"text-align: right;\">\n",
       "      <th>Credit-Application-Result</th>\n",
       "      <th>Creditworthy</th>\n",
       "      <th>Non-Creditworthy</th>\n",
       "    </tr>\n",
       "    <tr>\n",
       "      <th>Purpose</th>\n",
       "      <th></th>\n",
       "      <th></th>\n",
       "    </tr>\n",
       "  </thead>\n",
       "  <tbody>\n",
       "    <tr>\n",
       "      <th>Home Related</th>\n",
       "      <td>244</td>\n",
       "      <td>111</td>\n",
       "    </tr>\n",
       "    <tr>\n",
       "      <th>New car</th>\n",
       "      <td>40</td>\n",
       "      <td>7</td>\n",
       "    </tr>\n",
       "    <tr>\n",
       "      <th>Other</th>\n",
       "      <td>12</td>\n",
       "      <td>3</td>\n",
       "    </tr>\n",
       "    <tr>\n",
       "      <th>Used car</th>\n",
       "      <td>62</td>\n",
       "      <td>21</td>\n",
       "    </tr>\n",
       "  </tbody>\n",
       "</table>\n",
       "</div>"
      ],
      "text/plain": [
       "Credit-Application-Result  Creditworthy  Non-Creditworthy\n",
       "Purpose                                                  \n",
       "Home Related                        244               111\n",
       "New car                              40                 7\n",
       "Other                                12                 3\n",
       "Used car                             62                21"
      ]
     },
     "execution_count": 19,
     "metadata": {},
     "output_type": "execute_result"
    }
   ],
   "source": [
    "pd.crosstab(train['Purpose'],train['Credit-Application-Result'])"
   ]
  },
  {
   "cell_type": "markdown",
   "metadata": {},
   "source": [
    "The out of the explore_cat and the crosstabulation results above indicate that purpose is basically home related or non home related.\n",
    "\n",
    "Hence,The purpose column is therefore engineared as such in the next line of code."
   ]
  },
  {
   "cell_type": "code",
   "execution_count": 20,
   "metadata": {},
   "outputs": [],
   "source": [
    "#Re-categorizing the pupose column\n",
    "\n",
    "train['Purpose'].replace({'Used car':'Not Home Related',\n",
    "                          'New car':'Not Home Related',\n",
    "                          'Other':'Not Home Related'},inplace=True)"
   ]
  },
  {
   "cell_type": "code",
   "execution_count": 21,
   "metadata": {},
   "outputs": [
    {
     "name": "stdout",
     "output_type": "stream",
     "text": [
      "Summary\n",
      "==========\n",
      "count              500\n",
      "unique               2\n",
      "top       Home Related\n",
      "freq               355\n",
      "Name: Purpose, dtype: object \n",
      "\n"
     ]
    },
    {
     "data": {
      "image/png": "[encoded data removed]",
      "text/plain": [
       "<Figure size 432x288 with 1 Axes>"
      ]
     },
     "metadata": {
      "needs_background": "light"
     },
     "output_type": "display_data"
    },
    {
     "name": "stdout",
     "output_type": "stream",
     "text": [
      "==============================================\n",
      "Value counts \n",
      "\n",
      "Home Related        355\n",
      "Not Home Related    145\n",
      "Name: Purpose, dtype: int64 \n",
      "\n",
      "==============================================\n",
      "Missing values: 0\n"
     ]
    }
   ],
   "source": [
    "# Exploring the purpose after re-categorization\n",
    "explore_cat(train,'Purpose')"
   ]
  },
  {
   "cell_type": "markdown",
   "metadata": {},
   "source": [
    "Purpose now have two categories with no missing values"
   ]
  },
  {
   "cell_type": "markdown",
   "metadata": {},
   "source": [
    "### Exploring Value-Savings-Stocks"
   ]
  },
  {
   "cell_type": "code",
   "execution_count": 22,
   "metadata": {},
   "outputs": [
    {
     "data": {
      "text/plain": [
       "0    £100-£1000\n",
       "1    £100-£1000\n",
       "2          None\n",
       "3          None\n",
       "4          None\n",
       "Name: Value-Savings-Stocks, dtype: object"
      ]
     },
     "execution_count": 22,
     "metadata": {},
     "output_type": "execute_result"
    }
   ],
   "source": [
    "train['Value-Savings-Stocks'].head()"
   ]
  },
  {
   "cell_type": "code",
   "execution_count": 23,
   "metadata": {},
   "outputs": [
    {
     "name": "stdout",
     "output_type": "stream",
     "text": [
      "Summary\n",
      "==========\n",
      "count      500\n",
      "unique       3\n",
      "top       None\n",
      "freq       298\n",
      "Name: Value-Savings-Stocks, dtype: object \n",
      "\n"
     ]
    },
    {
     "data": {
      "image/png": "[encoded data removed]",
      "text/plain": [
       "<Figure size 432x288 with 1 Axes>"
      ]
     },
     "metadata": {
      "needs_background": "light"
     },
     "output_type": "display_data"
    },
    {
     "name": "stdout",
     "output_type": "stream",
     "text": [
      "==============================================\n",
      "Value counts \n",
      "\n",
      "None          298\n",
      "£100-£1000    154\n",
      "< £100         48\n",
      "Name: Value-Savings-Stocks, dtype: int64 \n",
      "\n",
      "==============================================\n",
      "Missing values: 0\n"
     ]
    }
   ],
   "source": [
    "explore_cat(train,'Value-Savings-Stocks')"
   ]
  },
  {
   "cell_type": "markdown",
   "metadata": {},
   "source": [
    "Value-Savings-Stocks has three categories with no missing values"
   ]
  },
  {
   "cell_type": "markdown",
   "metadata": {},
   "source": [
    "### Exploring Length-of-current-employment"
   ]
  },
  {
   "cell_type": "code",
   "execution_count": 24,
   "metadata": {},
   "outputs": [
    {
     "data": {
      "text/plain": [
       "0      < 1yr\n",
       "1      < 1yr\n",
       "2    1-4 yrs\n",
       "3    1-4 yrs\n",
       "4      < 1yr\n",
       "Name: Length-of-current-employment, dtype: object"
      ]
     },
     "execution_count": 24,
     "metadata": {},
     "output_type": "execute_result"
    }
   ],
   "source": [
    "train['Length-of-current-employment'].head()"
   ]
  },
  {
   "cell_type": "code",
   "execution_count": 25,
   "metadata": {},
   "outputs": [
    {
     "name": "stdout",
     "output_type": "stream",
     "text": [
      "Summary\n",
      "==========\n",
      "count       500\n",
      "unique        3\n",
      "top       < 1yr\n",
      "freq        279\n",
      "Name: Length-of-current-employment, dtype: object \n",
      "\n"
     ]
    },
    {
     "data": {
      "image/png": "[encoded data removed]",
      "text/plain": [
       "<Figure size 432x288 with 1 Axes>"
      ]
     },
     "metadata": {
      "needs_background": "light"
     },
     "output_type": "display_data"
    },
    {
     "name": "stdout",
     "output_type": "stream",
     "text": [
      "==============================================\n",
      "Value counts \n",
      "\n",
      "< 1yr      279\n",
      "4-7 yrs    124\n",
      "1-4 yrs     97\n",
      "Name: Length-of-current-employment, dtype: int64 \n",
      "\n",
      "==============================================\n",
      "Missing values: 0\n"
     ]
    }
   ],
   "source": [
    "explore_cat(train,'Length-of-current-employment')"
   ]
  },
  {
   "cell_type": "code",
   "execution_count": 26,
   "metadata": {},
   "outputs": [
    {
     "data": {
      "text/html": [
       "<div>\n",
       "<style scoped>\n",
       "    .dataframe tbody tr th:only-of-type {\n",
       "        vertical-align: middle;\n",
       "    }\n",
       "\n",
       "    .dataframe tbody tr th {\n",
       "        vertical-align: top;\n",
       "    }\n",
       "\n",
       "    .dataframe thead th {\n",
       "        text-align: right;\n",
       "    }\n",
       "</style>\n",
       "<table border=\"1\" class=\"dataframe\">\n",
       "  <thead>\n",
       "    <tr style=\"text-align: right;\">\n",
       "      <th>Credit-Application-Result</th>\n",
       "      <th>Creditworthy</th>\n",
       "      <th>Non-Creditworthy</th>\n",
       "    </tr>\n",
       "    <tr>\n",
       "      <th>Length-of-current-employment</th>\n",
       "      <th></th>\n",
       "      <th></th>\n",
       "    </tr>\n",
       "  </thead>\n",
       "  <tbody>\n",
       "    <tr>\n",
       "      <th>1-4 yrs</th>\n",
       "      <td>15.2</td>\n",
       "      <td>4.2</td>\n",
       "    </tr>\n",
       "    <tr>\n",
       "      <th>4-7 yrs</th>\n",
       "      <td>18.8</td>\n",
       "      <td>6.0</td>\n",
       "    </tr>\n",
       "    <tr>\n",
       "      <th>&lt; 1yr</th>\n",
       "      <td>37.6</td>\n",
       "      <td>18.2</td>\n",
       "    </tr>\n",
       "  </tbody>\n",
       "</table>\n",
       "</div>"
      ],
      "text/plain": [
       "Credit-Application-Result     Creditworthy  Non-Creditworthy\n",
       "Length-of-current-employment                                \n",
       "1-4 yrs                               15.2               4.2\n",
       "4-7 yrs                               18.8               6.0\n",
       "< 1yr                                 37.6              18.2"
      ]
     },
     "execution_count": 26,
     "metadata": {},
     "output_type": "execute_result"
    }
   ],
   "source": [
    "pd.crosstab(train['Length-of-current-employment'],train['Credit-Application-Result'],normalize = True)*100"
   ]
  },
  {
   "cell_type": "markdown",
   "metadata": {},
   "source": [
    "Length-of-current-employment has three categories (1-4 years,4-7 years, <1 year) with no missing values"
   ]
  },
  {
   "cell_type": "markdown",
   "metadata": {},
   "source": [
    "### Guarantors"
   ]
  },
  {
   "cell_type": "code",
   "execution_count": 27,
   "metadata": {},
   "outputs": [
    {
     "data": {
      "text/plain": [
       "0    None\n",
       "1    None\n",
       "2    None\n",
       "3    None\n",
       "4    None\n",
       "Name: Guarantors, dtype: object"
      ]
     },
     "execution_count": 27,
     "metadata": {},
     "output_type": "execute_result"
    }
   ],
   "source": [
    "train['Guarantors'].head()"
   ]
  },
  {
   "cell_type": "code",
   "execution_count": 28,
   "metadata": {},
   "outputs": [
    {
     "name": "stdout",
     "output_type": "stream",
     "text": [
      "Summary\n",
      "==========\n",
      "count      500\n",
      "unique       2\n",
      "top       None\n",
      "freq       457\n",
      "Name: Guarantors, dtype: object \n",
      "\n"
     ]
    },
    {
     "data": {
      "image/png": "[encoded data removed]",
      "text/plain": [
       "<Figure size 432x288 with 1 Axes>"
      ]
     },
     "metadata": {
      "needs_background": "light"
     },
     "output_type": "display_data"
    },
    {
     "name": "stdout",
     "output_type": "stream",
     "text": [
      "==============================================\n",
      "Value counts \n",
      "\n",
      "None    457\n",
      "Yes      43\n",
      "Name: Guarantors, dtype: int64 \n",
      "\n",
      "==============================================\n",
      "Missing values: 0\n"
     ]
    }
   ],
   "source": [
    "explore_cat(train,'Guarantors')"
   ]
  },
  {
   "cell_type": "markdown",
   "metadata": {},
   "source": [
    "The countplot and the Value counts output of Guarantors shows that it has less variation. Guarantor will be dropped from the input features for building the models. "
   ]
  },
  {
   "cell_type": "markdown",
   "metadata": {},
   "source": [
    "### Concurrent-Credits"
   ]
  },
  {
   "cell_type": "code",
   "execution_count": 29,
   "metadata": {},
   "outputs": [
    {
     "data": {
      "text/plain": [
       "0    Other Banks/Depts\n",
       "1    Other Banks/Depts\n",
       "2    Other Banks/Depts\n",
       "3    Other Banks/Depts\n",
       "4    Other Banks/Depts\n",
       "Name: Concurrent-Credits, dtype: object"
      ]
     },
     "execution_count": 29,
     "metadata": {},
     "output_type": "execute_result"
    }
   ],
   "source": [
    "train['Concurrent-Credits'].head()"
   ]
  },
  {
   "cell_type": "code",
   "execution_count": 30,
   "metadata": {},
   "outputs": [
    {
     "name": "stdout",
     "output_type": "stream",
     "text": [
      "Summary\n",
      "==========\n",
      "count                   500\n",
      "unique                    1\n",
      "top       Other Banks/Depts\n",
      "freq                    500\n",
      "Name: Concurrent-Credits, dtype: object \n",
      "\n"
     ]
    },
    {
     "data": {
      "image/png": "[encoded data removed]",
      "text/plain": [
       "<Figure size 432x288 with 1 Axes>"
      ]
     },
     "metadata": {
      "needs_background": "light"
     },
     "output_type": "display_data"
    },
    {
     "name": "stdout",
     "output_type": "stream",
     "text": [
      "==============================================\n",
      "Value counts \n",
      "\n",
      "Other Banks/Depts    500\n",
      "Name: Concurrent-Credits, dtype: int64 \n",
      "\n",
      "==============================================\n",
      "Missing values: 0\n"
     ]
    }
   ],
   "source": [
    "explore_cat(train,'Concurrent-Credits')"
   ]
  },
  {
   "cell_type": "markdown",
   "metadata": {},
   "source": [
    "\n",
    "\n",
    "\n",
    "\n",
    "\n",
    "\n",
    "Concurrent-Credits has only one unique cateogry hence will not provide any infomation to the model.\n",
    "\n",
    "It will therefore be dropped from the input features."
   ]
  },
  {
   "cell_type": "code",
   "execution_count": null,
   "metadata": {},
   "outputs": [],
   "source": []
  },
  {
   "cell_type": "markdown",
   "metadata": {},
   "source": [
    "## No-of-Credits-at-this-Bank"
   ]
  },
  {
   "cell_type": "code",
   "execution_count": 31,
   "metadata": {},
   "outputs": [
    {
     "data": {
      "text/plain": [
       "0              1\n",
       "1              1\n",
       "2    More than 1\n",
       "3              1\n",
       "4              1\n",
       "Name: No-of-Credits-at-this-Bank, dtype: object"
      ]
     },
     "execution_count": 31,
     "metadata": {},
     "output_type": "execute_result"
    }
   ],
   "source": [
    "train['No-of-Credits-at-this-Bank'].head()"
   ]
  },
  {
   "cell_type": "code",
   "execution_count": 32,
   "metadata": {},
   "outputs": [
    {
     "name": "stdout",
     "output_type": "stream",
     "text": [
      "Summary\n",
      "==========\n",
      "count     500\n",
      "unique      2\n",
      "top         1\n",
      "freq      320\n",
      "Name: No-of-Credits-at-this-Bank, dtype: object \n",
      "\n"
     ]
    },
    {
     "data": {
      "image/png": "[encoded data removed]",
      "text/plain": [
       "<Figure size 432x288 with 1 Axes>"
      ]
     },
     "metadata": {
      "needs_background": "light"
     },
     "output_type": "display_data"
    },
    {
     "name": "stdout",
     "output_type": "stream",
     "text": [
      "==============================================\n",
      "Value counts \n",
      "\n",
      "1              320\n",
      "More than 1    180\n",
      "Name: No-of-Credits-at-this-Bank, dtype: int64 \n",
      "\n",
      "==============================================\n",
      "Missing values: 0\n"
     ]
    }
   ],
   "source": [
    "explore_cat(train,'No-of-Credits-at-this-Bank')"
   ]
  },
  {
   "cell_type": "markdown",
   "metadata": {},
   "source": [
    "No-of-Credits-at-this-Bank has two categories with no missing values"
   ]
  },
  {
   "cell_type": "markdown",
   "metadata": {},
   "source": [
    "## Further Exploration of the categorical variables"
   ]
  },
  {
   "cell_type": "markdown",
   "metadata": {},
   "source": [
    "**Checking the association beween other categorical variables and Credit-Application-Result with Chi-Square test**\n",
    "\n",
    "In this section, Chi-Square test is carried out just to have an idea about the relationships among the categorical variables."
   ]
  },
  {
   "cell_type": "markdown",
   "metadata": {},
   "source": [
    "### Creating a test function to display Chi-Square test output"
   ]
  },
  {
   "cell_type": "code",
   "execution_count": 33,
   "metadata": {},
   "outputs": [],
   "source": [
    "def test_association(df,x,y):\n",
    "    '''\n",
    "    This function displays conducts a chi-square test and displays the output\n",
    "    '''\n",
    "    table = pd.crosstab(df[x],df[y])\n",
    "    test=stat()\n",
    "    test.chisq(df=table)\n",
    "    \n",
    "    \n",
    "    print('Null hypothesis: {} and {} are Independent'.format(x,y))\n",
    "    print('Alternative hypothesis: {} and {} are Dependent\\n'.format(x,y))\n",
    "    print('Test results')\n",
    "    print('='*55)\n",
    "    print('Observed frequency values \\n')\n",
    "    print(table)\n",
    "    \n",
    "    print('*'*55)\n",
    "    print(test.expected_df)\n",
    "    print('*'*55)\n",
    "    print(test.summary)    "
   ]
  },
  {
   "cell_type": "markdown",
   "metadata": {},
   "source": [
    "**Association between Credit-Application-Result and Account-Balance**"
   ]
  },
  {
   "cell_type": "code",
   "execution_count": 34,
   "metadata": {},
   "outputs": [
    {
     "name": "stdout",
     "output_type": "stream",
     "text": [
      "Null hypothesis: Credit-Application-Result and Account-Balance are Independent\n",
      "Alternative hypothesis: Credit-Application-Result and Account-Balance are Dependent\n",
      "\n",
      "Test results\n",
      "=======================================================\n",
      "Observed frequency values \n",
      "\n",
      "Account-Balance            No Account  Some Balance\n",
      "Credit-Application-Result                          \n",
      "Creditworthy                      152           206\n",
      "Non-Creditworthy                  110            32\n",
      "*******************************************************\n",
      "\n",
      "Expected frequency counts\n",
      "\n",
      "      No Account    Some Balance\n",
      "--  ------------  --------------\n",
      " 0       187.592         170.408\n",
      " 1        74.408          67.592\n",
      "\n",
      "*******************************************************\n",
      "\n",
      "Chi-squared test for independence\n",
      "\n",
      "Test              Df    Chi-square      P-value\n",
      "--------------  ----  ------------  -----------\n",
      "Pearson            1       48.5598  3.20374e-12\n",
      "Log-likelihood     1       50.8098  1.01762e-12\n",
      "\n"
     ]
    }
   ],
   "source": [
    "test_association(train,'Credit-Application-Result','Account-Balance')"
   ]
  },
  {
   "cell_type": "markdown",
   "metadata": {},
   "source": [
    "From the test results,the p_value is **3.20374e-12**.\n",
    "This implies that at a significance level of 0.05,there is enought eveidence to reject the null hypothesis hence conclude that, there is an association between Credit-Application-Result and Account-Balance."
   ]
  },
  {
   "cell_type": "code",
   "execution_count": null,
   "metadata": {},
   "outputs": [],
   "source": []
  },
  {
   "cell_type": "code",
   "execution_count": 35,
   "metadata": {},
   "outputs": [
    {
     "name": "stdout",
     "output_type": "stream",
     "text": [
      "Null hypothesis: Credit-Application-Result and Payment-Status-of-Previous-Credit are Independent\n",
      "Alternative hypothesis: Credit-Application-Result and Payment-Status-of-Previous-Credit are Dependent\n",
      "\n",
      "Test results\n",
      "=======================================================\n",
      "Observed frequency values \n",
      "\n",
      "Payment-Status-of-Previous-Credit  No Problems (in this bank)  Paid Up  \\\n",
      "Credit-Application-Result                                                \n",
      "Creditworthy                                              162      185   \n",
      "Non-Creditworthy                                           42       75   \n",
      "\n",
      "Payment-Status-of-Previous-Credit  Some Problems  \n",
      "Credit-Application-Result                         \n",
      "Creditworthy                                  11  \n",
      "Non-Creditworthy                              25  \n",
      "*******************************************************\n",
      "\n",
      "Expected frequency counts\n",
      "\n",
      "      No Problems (in this bank)    Paid Up    Some Problems\n",
      "--  ----------------------------  ---------  ---------------\n",
      " 0                       146.064     186.16           25.776\n",
      " 1                        57.936      73.84           10.224\n",
      "\n",
      "*******************************************************\n",
      "\n",
      "Chi-squared test for independence\n",
      "\n",
      "Test              Df    Chi-square      P-value\n",
      "--------------  ----  ------------  -----------\n",
      "Pearson            2       35.9725  1.54411e-08\n",
      "Log-likelihood     2       32.5286  8.63961e-08\n",
      "\n"
     ]
    }
   ],
   "source": [
    "test_association(train,'Credit-Application-Result','Payment-Status-of-Previous-Credit')"
   ]
  },
  {
   "cell_type": "markdown",
   "metadata": {},
   "source": [
    "**Association between Credit-Application-Result and Purpose**"
   ]
  },
  {
   "cell_type": "code",
   "execution_count": 36,
   "metadata": {},
   "outputs": [
    {
     "name": "stdout",
     "output_type": "stream",
     "text": [
      "Null hypothesis: Credit-Application-Result and Purpose are Independent\n",
      "Alternative hypothesis: Credit-Application-Result and Purpose are Dependent\n",
      "\n",
      "Test results\n",
      "=======================================================\n",
      "Observed frequency values \n",
      "\n",
      "Purpose                    Home Related  Not Home Related\n",
      "Credit-Application-Result                                \n",
      "Creditworthy                        244               114\n",
      "Non-Creditworthy                    111                31\n",
      "*******************************************************\n",
      "\n",
      "Expected frequency counts\n",
      "\n",
      "      Home Related    Not Home Related\n",
      "--  --------------  ------------------\n",
      " 0          254.18              103.82\n",
      " 1          100.82               41.18\n",
      "\n",
      "*******************************************************\n",
      "\n",
      "Chi-squared test for independence\n",
      "\n",
      "Test              Df    Chi-square    P-value\n",
      "--------------  ----  ------------  ---------\n",
      "Pearson            1       4.47603  0.0343735\n",
      "Log-likelihood     1       4.62836  0.0314477\n",
      "\n"
     ]
    }
   ],
   "source": [
    "test_association(train,'Credit-Application-Result','Purpose')"
   ]
  },
  {
   "cell_type": "markdown",
   "metadata": {},
   "source": [
    "**Association between Credit-Application-Result Value-Savings-Stocks**"
   ]
  },
  {
   "cell_type": "code",
   "execution_count": 37,
   "metadata": {},
   "outputs": [
    {
     "name": "stdout",
     "output_type": "stream",
     "text": [
      "Null hypothesis: Credit-Application-Result and Value-Savings-Stocks are Independent\n",
      "Alternative hypothesis: Credit-Application-Result and Value-Savings-Stocks are Dependent\n",
      "\n",
      "Test results\n",
      "=======================================================\n",
      "Observed frequency values \n",
      "\n",
      "Value-Savings-Stocks       < £100  None  £100-£1000\n",
      "Credit-Application-Result                          \n",
      "Creditworthy                   36   195         127\n",
      "Non-Creditworthy               12   103          27\n",
      "*******************************************************\n",
      "\n",
      "Expected frequency counts\n",
      "\n",
      "      < £100     None    £100-£1000\n",
      "--  --------  -------  ------------\n",
      " 0    34.368  213.368       110.264\n",
      " 1    13.632   84.632        43.736\n",
      "\n",
      "*******************************************************\n",
      "\n",
      "Chi-squared test for independence\n",
      "\n",
      "Test              Df    Chi-square      P-value\n",
      "--------------  ----  ------------  -----------\n",
      "Pearson            2        14.785  0.00061586\n",
      "Log-likelihood     2        15.481  0.000434851\n",
      "\n"
     ]
    }
   ],
   "source": [
    "test_association(train,'Credit-Application-Result','Value-Savings-Stocks')"
   ]
  },
  {
   "cell_type": "markdown",
   "metadata": {},
   "source": [
    "**Association between Credit-Application-Result and Length-of-current-employment**"
   ]
  },
  {
   "cell_type": "code",
   "execution_count": 38,
   "metadata": {},
   "outputs": [
    {
     "name": "stdout",
     "output_type": "stream",
     "text": [
      "Null hypothesis: Credit-Application-Result and Length-of-current-employment are Independent\n",
      "Alternative hypothesis: Credit-Application-Result and Length-of-current-employment are Dependent\n",
      "\n",
      "Test results\n",
      "=======================================================\n",
      "Observed frequency values \n",
      "\n",
      "Length-of-current-employment  1-4 yrs  4-7 yrs  < 1yr\n",
      "Credit-Application-Result                            \n",
      "Creditworthy                       76       94    188\n",
      "Non-Creditworthy                   21       30     91\n",
      "*******************************************************\n",
      "\n",
      "Expected frequency counts\n",
      "\n",
      "      1-4 yrs    4-7 yrs    < 1yr\n",
      "--  ---------  ---------  -------\n",
      " 0     69.452     88.784  199.764\n",
      " 1     27.548     35.216   79.236\n",
      "\n",
      "*******************************************************\n",
      "\n",
      "Chi-squared test for independence\n",
      "\n",
      "Test              Df    Chi-square    P-value\n",
      "--------------  ----  ------------  ---------\n",
      "Pearson            2       5.69213  0.0580725\n",
      "Log-likelihood     2       5.78294  0.0554945\n",
      "\n"
     ]
    }
   ],
   "source": [
    "test_association(train,'Credit-Application-Result','Length-of-current-employment')"
   ]
  },
  {
   "cell_type": "code",
   "execution_count": null,
   "metadata": {},
   "outputs": [],
   "source": []
  },
  {
   "cell_type": "code",
   "execution_count": 39,
   "metadata": {},
   "outputs": [
    {
     "name": "stdout",
     "output_type": "stream",
     "text": [
      "Null hypothesis: Credit-Application-Result and Account-Balance are Independent\n",
      "Alternative hypothesis: Credit-Application-Result and Account-Balance are Dependent\n",
      "\n",
      "Test results\n",
      "=======================================================\n",
      "Observed frequency values \n",
      "\n",
      "Account-Balance            No Account  Some Balance\n",
      "Credit-Application-Result                          \n",
      "Creditworthy                      152           206\n",
      "Non-Creditworthy                  110            32\n",
      "*******************************************************\n",
      "\n",
      "Expected frequency counts\n",
      "\n",
      "      No Account    Some Balance\n",
      "--  ------------  --------------\n",
      " 0       187.592         170.408\n",
      " 1        74.408          67.592\n",
      "\n",
      "*******************************************************\n",
      "\n",
      "Chi-squared test for independence\n",
      "\n",
      "Test              Df    Chi-square      P-value\n",
      "--------------  ----  ------------  -----------\n",
      "Pearson            1       48.5598  3.20374e-12\n",
      "Log-likelihood     1       50.8098  1.01762e-12\n",
      "\n"
     ]
    }
   ],
   "source": [
    "test_association(train,'Credit-Application-Result','Account-Balance')"
   ]
  },
  {
   "cell_type": "markdown",
   "metadata": {},
   "source": [
    "**Association Credit-Application-Result and No-of-Credits-at-this-Bank**"
   ]
  },
  {
   "cell_type": "code",
   "execution_count": 40,
   "metadata": {},
   "outputs": [
    {
     "name": "stdout",
     "output_type": "stream",
     "text": [
      "Null hypothesis: Credit-Application-Result and No-of-Credits-at-this-Bank are Independent\n",
      "Alternative hypothesis: Credit-Application-Result and No-of-Credits-at-this-Bank are Dependent\n",
      "\n",
      "Test results\n",
      "=======================================================\n",
      "Observed frequency values \n",
      "\n",
      "No-of-Credits-at-this-Bank    1  More than 1\n",
      "Credit-Application-Result                   \n",
      "Creditworthy                223          135\n",
      "Non-Creditworthy             97           45\n",
      "*******************************************************\n",
      "\n",
      "Expected frequency counts\n",
      "\n",
      "         1    More than 1\n",
      "--  ------  -------------\n",
      " 0  229.12         128.88\n",
      " 1   90.88          51.12\n",
      "\n",
      "*******************************************************\n",
      "\n",
      "Chi-squared test for independence\n",
      "\n",
      "Test              Df    Chi-square    P-value\n",
      "--------------  ----  ------------  ---------\n",
      "Pearson            1       1.34831   0.245574\n",
      "Log-likelihood     1       1.36299   0.243021\n",
      "\n"
     ]
    }
   ],
   "source": [
    "test_association(train,'Credit-Application-Result','No-of-Credits-at-this-Bank')"
   ]
  },
  {
   "cell_type": "markdown",
   "metadata": {},
   "source": [
    "The chi-square test returns a p_value of 0.245574 which is greater than 0.05.\n",
    "\n",
    "This indicate that at asignificant level of 0.05, these is no enougth evidence to reject the null hypothesis and \n",
    "\n",
    "conclude the these is no association between  Credit-Application-Result and No-of-Credits-at-this-Bank.\n",
    "\n",
    "This suggests that No-of-Credits-at-this-Bank may be drooped from the input features if need be."
   ]
  },
  {
   "cell_type": "markdown",
   "metadata": {},
   "source": [
    "# Exploring the numerical Variables"
   ]
  },
  {
   "cell_type": "code",
   "execution_count": 41,
   "metadata": {},
   "outputs": [
    {
     "name": "stdout",
     "output_type": "stream",
     "text": [
      "Duration-of-Credit-Month\n",
      "Credit-Amount\n",
      "Instalment-per-cent\n",
      "Duration-in-Current-address\n",
      "Most-valuable-available-asset\n",
      "Age-years\n",
      "Type-of-apartment\n",
      "Occupation\n",
      "No-of-dependents\n",
      "Telephone\n",
      "Foreign-Worker\n"
     ]
    }
   ],
   "source": [
    "# Numerical variables\n",
    "\n",
    "for col in numerical_var.columns:\n",
    "    print(col)"
   ]
  },
  {
   "cell_type": "markdown",
   "metadata": {},
   "source": [
    "###  Creating a function to explore the numerical variables"
   ]
  },
  {
   "cell_type": "code",
   "execution_count": 42,
   "metadata": {},
   "outputs": [],
   "source": [
    "\n",
    "\n",
    "def explore_num(df,x):\n",
    "    '''\n",
    "    This function gives a numerical and graphical summary of numerical column of a DataFrame\n",
    "    '''\n",
    "    print('Summary Statistics \\n')\n",
    "    print(df[x].apply([len,min,max,np.median,np.mean,np.std]))\n",
    "    print('======================================')\n",
    "    print('Missing values: {}'.format(df[x].isnull().sum()))\n",
    "    print('======================================\\n')\n",
    "    plt.figure(figsize = (8,4))\n",
    "    #plotting a boxplot\n",
    "    meanpointprops = dict(marker='D', markeredgecolor='black',markerfacecolor='firebrick')\n",
    "    medianprops = dict(linestyle='-.', linewidth=3, color='gold')\n",
    "    plt.subplot(1,2,1)\n",
    "    plt.boxplot(df[x],vert=True,patch_artist=True,notch = True,\n",
    "            showmeans = True,medianprops = medianprops,meanprops = meanpointprops)\n",
    "    plt.xlabel(df[x].name)\n",
    "    plt.title('Boxplot')\n",
    "\n",
    "    # plotting a histogram\n",
    "    plt.subplot(1,2,2)\n",
    "    plt.hist(df[x])\n",
    "    plt.title('Histogram')\n",
    "    plt.tight_layout()\n",
    "    plt.show()\n",
    "    \n"
   ]
  },
  {
   "cell_type": "markdown",
   "metadata": {},
   "source": [
    "### Duration-of-Credit-Month"
   ]
  },
  {
   "cell_type": "code",
   "execution_count": 43,
   "metadata": {},
   "outputs": [
    {
     "data": {
      "text/plain": [
       "0    4\n",
       "1    4\n",
       "2    4\n",
       "3    4\n",
       "4    6\n",
       "Name: Duration-of-Credit-Month, dtype: int64"
      ]
     },
     "execution_count": 43,
     "metadata": {},
     "output_type": "execute_result"
    }
   ],
   "source": [
    "train['Duration-of-Credit-Month'].head()"
   ]
  },
  {
   "cell_type": "code",
   "execution_count": 44,
   "metadata": {},
   "outputs": [
    {
     "name": "stdout",
     "output_type": "stream",
     "text": [
      "Summary Statistics \n",
      "\n",
      "len       500.00000\n",
      "min         4.00000\n",
      "max        60.00000\n",
      "median     18.00000\n",
      "mean       21.43400\n",
      "std        12.30742\n",
      "Name: Duration-of-Credit-Month, dtype: float64\n",
      "======================================\n",
      "Missing values: 0\n",
      "======================================\n",
      "\n"
     ]
    },
    {
     "data": {
      "image/png": "[encoded data removed]",
      "text/plain": [
       "<Figure size 576x288 with 2 Axes>"
      ]
     },
     "metadata": {
      "needs_background": "light"
     },
     "output_type": "display_data"
    }
   ],
   "source": [
    "explore_num(train,'Duration-of-Credit-Month')"
   ]
  },
  {
   "cell_type": "code",
   "execution_count": null,
   "metadata": {},
   "outputs": [],
   "source": []
  },
  {
   "cell_type": "markdown",
   "metadata": {},
   "source": [
    "### Credit-Amount"
   ]
  },
  {
   "cell_type": "code",
   "execution_count": 45,
   "metadata": {},
   "outputs": [
    {
     "data": {
      "text/plain": [
       "0    1494\n",
       "1    1494\n",
       "2    1544\n",
       "3    3380\n",
       "4     343\n",
       "Name: Credit-Amount, dtype: int64"
      ]
     },
     "execution_count": 45,
     "metadata": {},
     "output_type": "execute_result"
    }
   ],
   "source": [
    "train['Credit-Amount'].head()"
   ]
  },
  {
   "cell_type": "code",
   "execution_count": 46,
   "metadata": {},
   "outputs": [
    {
     "name": "stdout",
     "output_type": "stream",
     "text": [
      "Summary Statistics \n",
      "\n",
      "len         500.000000\n",
      "min         276.000000\n",
      "max       18424.000000\n",
      "median     2236.500000\n",
      "mean       3199.980000\n",
      "std        2831.386861\n",
      "Name: Credit-Amount, dtype: float64\n",
      "======================================\n",
      "Missing values: 0\n",
      "======================================\n",
      "\n"
     ]
    },
    {
     "data": {
      "image/png": "[encoded data removed]",
      "text/plain": [
       "<Figure size 576x288 with 2 Axes>"
      ]
     },
     "metadata": {
      "needs_background": "light"
     },
     "output_type": "display_data"
    }
   ],
   "source": [
    "explore_num(train,'Credit-Amount')"
   ]
  },
  {
   "cell_type": "markdown",
   "metadata": {},
   "source": [
    "### Instalment-per-cent"
   ]
  },
  {
   "cell_type": "code",
   "execution_count": 47,
   "metadata": {},
   "outputs": [
    {
     "data": {
      "text/plain": [
       "0    1494\n",
       "1    1494\n",
       "2    1544\n",
       "3    3380\n",
       "4     343\n",
       "Name: Credit-Amount, dtype: int64"
      ]
     },
     "execution_count": 47,
     "metadata": {},
     "output_type": "execute_result"
    }
   ],
   "source": [
    "train['Credit-Amount'].head()"
   ]
  },
  {
   "cell_type": "code",
   "execution_count": 48,
   "metadata": {},
   "outputs": [
    {
     "name": "stdout",
     "output_type": "stream",
     "text": [
      "Summary Statistics \n",
      "\n",
      "len       500.000000\n",
      "min         1.000000\n",
      "max         4.000000\n",
      "median      3.000000\n",
      "mean        3.010000\n",
      "std         1.113724\n",
      "Name: Instalment-per-cent, dtype: float64\n",
      "======================================\n",
      "Missing values: 0\n",
      "======================================\n",
      "\n"
     ]
    },
    {
     "data": {
      "image/png": "[encoded data removed]",
      "text/plain": [
       "<Figure size 576x288 with 2 Axes>"
      ]
     },
     "metadata": {
      "needs_background": "light"
     },
     "output_type": "display_data"
    }
   ],
   "source": [
    "explore_num(train,'Instalment-per-cent')"
   ]
  },
  {
   "cell_type": "markdown",
   "metadata": {},
   "source": [
    "### Duration-in-Current-address"
   ]
  },
  {
   "cell_type": "code",
   "execution_count": 49,
   "metadata": {},
   "outputs": [
    {
     "data": {
      "text/plain": [
       "0    2.0\n",
       "1    2.0\n",
       "2    1.0\n",
       "3    1.0\n",
       "4    1.0\n",
       "Name: Duration-in-Current-address, dtype: float64"
      ]
     },
     "execution_count": 49,
     "metadata": {},
     "output_type": "execute_result"
    }
   ],
   "source": [
    "train['Duration-in-Current-address'].head()"
   ]
  },
  {
   "cell_type": "code",
   "execution_count": 50,
   "metadata": {},
   "outputs": [
    {
     "name": "stdout",
     "output_type": "stream",
     "text": [
      "Summary Statistics \n",
      "\n",
      "len       500.000000\n",
      "min         1.000000\n",
      "max         4.000000\n",
      "median      2.000000\n",
      "mean        2.660256\n",
      "std         1.150017\n",
      "Name: Duration-in-Current-address, dtype: float64\n",
      "======================================\n",
      "Missing values: 344\n",
      "======================================\n",
      "\n"
     ]
    },
    {
     "data": {
      "image/png": "[encoded data removed]",
      "text/plain": [
       "<Figure size 576x288 with 2 Axes>"
      ]
     },
     "metadata": {
      "needs_background": "light"
     },
     "output_type": "display_data"
    }
   ],
   "source": [
    "explore_num(train,'Duration-in-Current-address')"
   ]
  },
  {
   "cell_type": "code",
   "execution_count": 51,
   "metadata": {},
   "outputs": [
    {
     "name": "stdout",
     "output_type": "stream",
     "text": [
      "68.8 percent of the values are missing\n"
     ]
    }
   ],
   "source": [
    "print(train['Duration-in-Current-address'].isnull().sum()/len(train['Duration-in-Current-address'])*100,\n",
    "      'percent of the values are missing')"
   ]
  },
  {
   "cell_type": "markdown",
   "metadata": {},
   "source": [
    "After exploring the occupation, it is realized that close to **70** percent of the values are missing.\n",
    "\n",
    "It wiil therefore be dropped from the  features since it's distribution will change serverely if the missing values are being imputed which may be missleading."
   ]
  },
  {
   "cell_type": "code",
   "execution_count": null,
   "metadata": {},
   "outputs": [],
   "source": []
  },
  {
   "cell_type": "markdown",
   "metadata": {},
   "source": [
    "### Most-valuable-available-asset"
   ]
  },
  {
   "cell_type": "code",
   "execution_count": 52,
   "metadata": {},
   "outputs": [
    {
     "data": {
      "text/plain": [
       "0    1\n",
       "1    1\n",
       "2    1\n",
       "3    1\n",
       "4    1\n",
       "Name: Most-valuable-available-asset, dtype: int64"
      ]
     },
     "execution_count": 52,
     "metadata": {},
     "output_type": "execute_result"
    }
   ],
   "source": [
    "train['Most-valuable-available-asset'].head()"
   ]
  },
  {
   "cell_type": "code",
   "execution_count": 53,
   "metadata": {},
   "outputs": [
    {
     "name": "stdout",
     "output_type": "stream",
     "text": [
      "Summary Statistics \n",
      "\n",
      "len       500.000000\n",
      "min         1.000000\n",
      "max         4.000000\n",
      "median      3.000000\n",
      "mean        2.360000\n",
      "std         1.064268\n",
      "Name: Most-valuable-available-asset, dtype: float64\n",
      "======================================\n",
      "Missing values: 0\n",
      "======================================\n",
      "\n"
     ]
    },
    {
     "data": {
      "image/png": "[encoded data removed]",
      "text/plain": [
       "<Figure size 576x288 with 2 Axes>"
      ]
     },
     "metadata": {
      "needs_background": "light"
     },
     "output_type": "display_data"
    }
   ],
   "source": [
    "explore_num(train,'Most-valuable-available-asset')"
   ]
  },
  {
   "cell_type": "markdown",
   "metadata": {},
   "source": [
    "### Age-years"
   ]
  },
  {
   "cell_type": "code",
   "execution_count": 54,
   "metadata": {},
   "outputs": [
    {
     "data": {
      "text/plain": [
       "0     NaN\n",
       "1    29.0\n",
       "2    42.0\n",
       "3    37.0\n",
       "4    27.0\n",
       "Name: Age-years, dtype: float64"
      ]
     },
     "execution_count": 54,
     "metadata": {},
     "output_type": "execute_result"
    }
   ],
   "source": [
    "train['Age-years'].head()"
   ]
  },
  {
   "cell_type": "code",
   "execution_count": 55,
   "metadata": {},
   "outputs": [
    {
     "name": "stdout",
     "output_type": "stream",
     "text": [
      "Summary Statistics \n",
      "\n",
      "len       500.000000\n",
      "min        19.000000\n",
      "max        75.000000\n",
      "median     33.000000\n",
      "mean       35.637295\n",
      "std        11.501522\n",
      "Name: Age-years, dtype: float64\n",
      "======================================\n",
      "Missing values: 12\n",
      "======================================\n",
      "\n"
     ]
    },
    {
     "data": {
      "image/png": "[encoded data removed]",
      "text/plain": [
       "<Figure size 576x288 with 2 Axes>"
      ]
     },
     "metadata": {
      "needs_background": "light"
     },
     "output_type": "display_data"
    }
   ],
   "source": [
    "explore_num(train,'Age-years')"
   ]
  },
  {
   "cell_type": "markdown",
   "metadata": {},
   "source": [
    "\n",
    "The median age is because there are outliers. And median is not is affected by outliers it becomes the appropriate metric to use in this case.\n"
   ]
  },
  {
   "cell_type": "code",
   "execution_count": 56,
   "metadata": {},
   "outputs": [],
   "source": [
    "# \n",
    "null_id=train['Age-years'][train['Age-years'].isnull()].index"
   ]
  },
  {
   "cell_type": "code",
   "execution_count": 57,
   "metadata": {},
   "outputs": [
    {
     "data": {
      "text/plain": [
       "0     NaN\n",
       "52    NaN\n",
       "63    NaN\n",
       "115   NaN\n",
       "139   NaN\n",
       "151   NaN\n",
       "172   NaN\n",
       "321   NaN\n",
       "345   NaN\n",
       "363   NaN\n",
       "389   NaN\n",
       "495   NaN\n",
       "Name: Age-years, dtype: float64"
      ]
     },
     "execution_count": 57,
     "metadata": {},
     "output_type": "execute_result"
    }
   ],
   "source": [
    "train['Age-years'][null_id]"
   ]
  },
  {
   "cell_type": "markdown",
   "metadata": {},
   "source": [
    "**Replacing missing age values with the median age**"
   ]
  },
  {
   "cell_type": "code",
   "execution_count": 58,
   "metadata": {},
   "outputs": [],
   "source": [
    "train['Age-years']=train['Age-years'].fillna(train['Age-years'].median())"
   ]
  },
  {
   "cell_type": "code",
   "execution_count": 59,
   "metadata": {},
   "outputs": [
    {
     "name": "stdout",
     "output_type": "stream",
     "text": [
      "Summary Statistics \n",
      "\n",
      "len       500.000000\n",
      "min        19.000000\n",
      "max        75.000000\n",
      "median     33.000000\n",
      "mean       35.574000\n",
      "std        11.369567\n",
      "Name: Age-years, dtype: float64\n",
      "======================================\n",
      "Missing values: 0\n",
      "======================================\n",
      "\n"
     ]
    },
    {
     "data": {
      "image/png": "[encoded data removed]",
      "text/plain": [
       "<Figure size 576x288 with 2 Axes>"
      ]
     },
     "metadata": {
      "needs_background": "light"
     },
     "output_type": "display_data"
    }
   ],
   "source": [
    "# Exploring the variable after fixing the missing values\n",
    "explore_num(train,'Age-years')"
   ]
  },
  {
   "cell_type": "code",
   "execution_count": null,
   "metadata": {},
   "outputs": [],
   "source": []
  },
  {
   "cell_type": "code",
   "execution_count": null,
   "metadata": {},
   "outputs": [],
   "source": []
  },
  {
   "cell_type": "markdown",
   "metadata": {},
   "source": [
    "### Type-of-apartment"
   ]
  },
  {
   "cell_type": "code",
   "execution_count": 60,
   "metadata": {},
   "outputs": [
    {
     "data": {
      "text/plain": [
       "0    2\n",
       "1    2\n",
       "2    2\n",
       "3    2\n",
       "4    2\n",
       "Name: Type-of-apartment, dtype: int64"
      ]
     },
     "execution_count": 60,
     "metadata": {},
     "output_type": "execute_result"
    }
   ],
   "source": [
    "train['Type-of-apartment'].head()"
   ]
  },
  {
   "cell_type": "code",
   "execution_count": 61,
   "metadata": {},
   "outputs": [
    {
     "name": "stdout",
     "output_type": "stream",
     "text": [
      "Summary Statistics \n",
      "\n",
      "len       500.000000\n",
      "min         1.000000\n",
      "max         3.000000\n",
      "median      2.000000\n",
      "mean        1.928000\n",
      "std         0.539814\n",
      "Name: Type-of-apartment, dtype: float64\n",
      "======================================\n",
      "Missing values: 0\n",
      "======================================\n",
      "\n"
     ]
    },
    {
     "data": {
      "image/png": "[encoded data removed]",
      "text/plain": [
       "<Figure size 576x288 with 2 Axes>"
      ]
     },
     "metadata": {
      "needs_background": "light"
     },
     "output_type": "display_data"
    }
   ],
   "source": [
    "explore_num(train,'Type-of-apartment')"
   ]
  },
  {
   "cell_type": "code",
   "execution_count": 62,
   "metadata": {},
   "outputs": [
    {
     "data": {
      "text/html": [
       "<div>\n",
       "<style scoped>\n",
       "    .dataframe tbody tr th:only-of-type {\n",
       "        vertical-align: middle;\n",
       "    }\n",
       "\n",
       "    .dataframe tbody tr th {\n",
       "        vertical-align: top;\n",
       "    }\n",
       "\n",
       "    .dataframe thead th {\n",
       "        text-align: right;\n",
       "    }\n",
       "</style>\n",
       "<table border=\"1\" class=\"dataframe\">\n",
       "  <thead>\n",
       "    <tr style=\"text-align: right;\">\n",
       "      <th>Credit-Application-Result</th>\n",
       "      <th>Creditworthy</th>\n",
       "      <th>Non-Creditworthy</th>\n",
       "    </tr>\n",
       "    <tr>\n",
       "      <th>Type-of-apartment</th>\n",
       "      <th></th>\n",
       "      <th></th>\n",
       "    </tr>\n",
       "  </thead>\n",
       "  <tbody>\n",
       "    <tr>\n",
       "      <th>1</th>\n",
       "      <td>63</td>\n",
       "      <td>29</td>\n",
       "    </tr>\n",
       "    <tr>\n",
       "      <th>2</th>\n",
       "      <td>261</td>\n",
       "      <td>91</td>\n",
       "    </tr>\n",
       "    <tr>\n",
       "      <th>3</th>\n",
       "      <td>34</td>\n",
       "      <td>22</td>\n",
       "    </tr>\n",
       "  </tbody>\n",
       "</table>\n",
       "</div>"
      ],
      "text/plain": [
       "Credit-Application-Result  Creditworthy  Non-Creditworthy\n",
       "Type-of-apartment                                        \n",
       "1                                    63                29\n",
       "2                                   261                91\n",
       "3                                    34                22"
      ]
     },
     "execution_count": 62,
     "metadata": {},
     "output_type": "execute_result"
    }
   ],
   "source": [
    "pd.crosstab(train['Type-of-apartment'],train['Credit-Application-Result'])"
   ]
  },
  {
   "cell_type": "code",
   "execution_count": null,
   "metadata": {},
   "outputs": [],
   "source": []
  },
  {
   "cell_type": "markdown",
   "metadata": {},
   "source": [
    "### Occupation"
   ]
  },
  {
   "cell_type": "code",
   "execution_count": 63,
   "metadata": {},
   "outputs": [
    {
     "data": {
      "text/plain": [
       "0    1\n",
       "1    1\n",
       "2    1\n",
       "3    1\n",
       "4    1\n",
       "Name: Occupation, dtype: int64"
      ]
     },
     "execution_count": 63,
     "metadata": {},
     "output_type": "execute_result"
    }
   ],
   "source": [
    "train['Occupation'].head()"
   ]
  },
  {
   "cell_type": "code",
   "execution_count": 64,
   "metadata": {},
   "outputs": [
    {
     "name": "stdout",
     "output_type": "stream",
     "text": [
      "Summary Statistics \n",
      "\n",
      "len       500.0\n",
      "min         1.0\n",
      "max         1.0\n",
      "median      1.0\n",
      "mean        1.0\n",
      "std         0.0\n",
      "Name: Occupation, dtype: float64\n",
      "======================================\n",
      "Missing values: 0\n",
      "======================================\n",
      "\n"
     ]
    },
    {
     "data": {
      "image/png": "[encoded data removed]",
      "text/plain": [
       "<Figure size 576x288 with 2 Axes>"
      ]
     },
     "metadata": {
      "needs_background": "light"
     },
     "output_type": "display_data"
    }
   ],
   "source": [
    "explore_num(train,'Occupation')"
   ]
  },
  {
   "cell_type": "markdown",
   "metadata": {},
   "source": [
    "The summary statistics, the boxplot and the histogram clearly reveal that the Occupation variable is a constant of value 1. Hence, it will be dropped from the input features for building the models."
   ]
  },
  {
   "cell_type": "markdown",
   "metadata": {},
   "source": [
    "### No-of-dependents"
   ]
  },
  {
   "cell_type": "code",
   "execution_count": 65,
   "metadata": {},
   "outputs": [
    {
     "data": {
      "text/plain": [
       "0    2\n",
       "1    2\n",
       "2    2\n",
       "3    2\n",
       "4    1\n",
       "Name: No-of-dependents, dtype: int64"
      ]
     },
     "execution_count": 65,
     "metadata": {},
     "output_type": "execute_result"
    }
   ],
   "source": [
    "train['No-of-dependents'].head()"
   ]
  },
  {
   "cell_type": "code",
   "execution_count": 66,
   "metadata": {
    "scrolled": false
   },
   "outputs": [
    {
     "name": "stdout",
     "output_type": "stream",
     "text": [
      "Summary Statistics \n",
      "\n",
      "len       500.00000\n",
      "min         1.00000\n",
      "max         2.00000\n",
      "median      1.00000\n",
      "mean        1.14600\n",
      "std         0.35346\n",
      "Name: No-of-dependents, dtype: float64\n",
      "======================================\n",
      "Missing values: 0\n",
      "======================================\n",
      "\n"
     ]
    },
    {
     "data": {
      "image/png": "[encoded data removed]",
      "text/plain": [
       "<Figure size 576x288 with 2 Axes>"
      ]
     },
     "metadata": {
      "needs_background": "light"
     },
     "output_type": "display_data"
    }
   ],
   "source": [
    "explore_num(train,'No-of-dependents')"
   ]
  },
  {
   "cell_type": "markdown",
   "metadata": {},
   "source": [
    "The exploration of the No-of-dependents indicates that it has low variation.\n",
    "\n",
    "It will therefore be dropped from the input features.\n"
   ]
  },
  {
   "cell_type": "code",
   "execution_count": null,
   "metadata": {},
   "outputs": [],
   "source": []
  },
  {
   "cell_type": "code",
   "execution_count": 67,
   "metadata": {},
   "outputs": [
    {
     "data": {
      "text/html": [
       "<div>\n",
       "<style scoped>\n",
       "    .dataframe tbody tr th:only-of-type {\n",
       "        vertical-align: middle;\n",
       "    }\n",
       "\n",
       "    .dataframe tbody tr th {\n",
       "        vertical-align: top;\n",
       "    }\n",
       "\n",
       "    .dataframe thead th {\n",
       "        text-align: right;\n",
       "    }\n",
       "</style>\n",
       "<table border=\"1\" class=\"dataframe\">\n",
       "  <thead>\n",
       "    <tr style=\"text-align: right;\">\n",
       "      <th>Credit-Application-Result</th>\n",
       "      <th>Creditworthy</th>\n",
       "      <th>Non-Creditworthy</th>\n",
       "    </tr>\n",
       "    <tr>\n",
       "      <th>No-of-dependents</th>\n",
       "      <th></th>\n",
       "      <th></th>\n",
       "    </tr>\n",
       "  </thead>\n",
       "  <tbody>\n",
       "    <tr>\n",
       "      <th>1</th>\n",
       "      <td>72.365340</td>\n",
       "      <td>27.634660</td>\n",
       "    </tr>\n",
       "    <tr>\n",
       "      <th>2</th>\n",
       "      <td>67.123288</td>\n",
       "      <td>32.876712</td>\n",
       "    </tr>\n",
       "  </tbody>\n",
       "</table>\n",
       "</div>"
      ],
      "text/plain": [
       "Credit-Application-Result  Creditworthy  Non-Creditworthy\n",
       "No-of-dependents                                         \n",
       "1                             72.365340         27.634660\n",
       "2                             67.123288         32.876712"
      ]
     },
     "execution_count": 67,
     "metadata": {},
     "output_type": "execute_result"
    }
   ],
   "source": [
    "pd.crosstab(train['No-of-dependents'],train['Credit-Application-Result'],normalize='index')*100"
   ]
  },
  {
   "cell_type": "code",
   "execution_count": null,
   "metadata": {},
   "outputs": [],
   "source": []
  },
  {
   "cell_type": "markdown",
   "metadata": {},
   "source": [
    "### Telephone"
   ]
  },
  {
   "cell_type": "code",
   "execution_count": 68,
   "metadata": {},
   "outputs": [
    {
     "data": {
      "text/plain": [
       "0    1\n",
       "1    1\n",
       "2    1\n",
       "3    1\n",
       "4    1\n",
       "Name: Telephone, dtype: int64"
      ]
     },
     "execution_count": 68,
     "metadata": {},
     "output_type": "execute_result"
    }
   ],
   "source": [
    "train['Telephone'].head()"
   ]
  },
  {
   "cell_type": "code",
   "execution_count": 69,
   "metadata": {},
   "outputs": [
    {
     "name": "stdout",
     "output_type": "stream",
     "text": [
      "Summary Statistics \n",
      "\n",
      "len       500.000000\n",
      "min         1.000000\n",
      "max         2.000000\n",
      "median      1.000000\n",
      "mean        1.400000\n",
      "std         0.490389\n",
      "Name: Telephone, dtype: float64\n",
      "======================================\n",
      "Missing values: 0\n",
      "======================================\n",
      "\n"
     ]
    },
    {
     "data": {
      "image/png": "[encoded data removed]",
      "text/plain": [
       "<Figure size 576x288 with 2 Axes>"
      ]
     },
     "metadata": {
      "needs_background": "light"
     },
     "output_type": "display_data"
    }
   ],
   "source": [
    "explore_num(train,'Telephone')"
   ]
  },
  {
   "cell_type": "markdown",
   "metadata": {},
   "source": [
    "Telephone will dropped based on the descretion that it will not add information to the model."
   ]
  },
  {
   "cell_type": "markdown",
   "metadata": {},
   "source": [
    "### Foreign-Worker"
   ]
  },
  {
   "cell_type": "code",
   "execution_count": 70,
   "metadata": {},
   "outputs": [
    {
     "data": {
      "text/plain": [
       "0    2\n",
       "1    2\n",
       "2    1\n",
       "3    1\n",
       "4    1\n",
       "Name: Foreign-Worker, dtype: int64"
      ]
     },
     "execution_count": 70,
     "metadata": {},
     "output_type": "execute_result"
    }
   ],
   "source": [
    "train['Foreign-Worker'].head()"
   ]
  },
  {
   "cell_type": "code",
   "execution_count": 71,
   "metadata": {},
   "outputs": [
    {
     "name": "stdout",
     "output_type": "stream",
     "text": [
      "Summary Statistics \n",
      "\n",
      "len       500.000000\n",
      "min         1.000000\n",
      "max         2.000000\n",
      "median      1.000000\n",
      "mean        1.038000\n",
      "std         0.191388\n",
      "Name: Foreign-Worker, dtype: float64\n",
      "======================================\n",
      "Missing values: 0\n",
      "======================================\n",
      "\n"
     ]
    },
    {
     "data": {
      "image/png": "[encoded data removed]",
      "text/plain": [
       "<Figure size 576x288 with 2 Axes>"
      ]
     },
     "metadata": {
      "needs_background": "light"
     },
     "output_type": "display_data"
    }
   ],
   "source": [
    "explore_num(train,'Foreign-Worker')"
   ]
  },
  {
   "cell_type": "markdown",
   "metadata": {},
   "source": [
    "Foreign-Worker has low variance and will be dropped"
   ]
  },
  {
   "cell_type": "markdown",
   "metadata": {},
   "source": [
    "### Calculating correlation among the numerical variables to investigate for multi-colinearity"
   ]
  },
  {
   "cell_type": "code",
   "execution_count": 72,
   "metadata": {},
   "outputs": [],
   "source": [
    "cor = numerical_var.corr()"
   ]
  },
  {
   "cell_type": "code",
   "execution_count": 73,
   "metadata": {},
   "outputs": [
    {
     "data": {
      "image/png": "[encoded data removed]",
      "text/plain": [
       "<Figure size 576x504 with 2 Axes>"
      ]
     },
     "metadata": {
      "needs_background": "light"
     },
     "output_type": "display_data"
    }
   ],
   "source": [
    "plt.figure(figsize=(8,7))\n",
    "sns.heatmap(cor,annot = cor,cmap = 'Spectral_r')\n",
    "plt.show()"
   ]
  },
  {
   "cell_type": "code",
   "execution_count": 74,
   "metadata": {},
   "outputs": [
    {
     "data": {
      "image/png": "[encoded data removed]",
      "text/plain": [
       "<Figure size 576x504 with 2 Axes>"
      ]
     },
     "metadata": {
      "needs_background": "light"
     },
     "output_type": "display_data"
    }
   ],
   "source": [
    "# creating a mask to keep only the half of the correlation table\n",
    "\n",
    "mask = np.triu(np.ones_like(cor,dtype=bool))\n",
    "\n",
    "plt.figure(figsize=(8,7))\n",
    "sns.heatmap(cor,annot = cor,mask=mask,\n",
    "            cmap = 'coolwarm',\n",
    "            linewidths=1,fmt=\".2f\",\n",
    "            cbar_kws={\"shrink\": .8})\n",
    "plt.show()"
   ]
  },
  {
   "cell_type": "markdown",
   "metadata": {},
   "source": [
    "\n",
    "From the heatmap above, there is a moderate correlation between the  Credit-Amount and  Duration-of-Credit-Month.\n",
    "However both variables will be maintained in the training features since the correlation is not too high."
   ]
  },
  {
   "cell_type": "markdown",
   "metadata": {},
   "source": [
    "### Inspecting the cleaned dataset"
   ]
  },
  {
   "cell_type": "code",
   "execution_count": 75,
   "metadata": {},
   "outputs": [
    {
     "name": "stdout",
     "output_type": "stream",
     "text": [
      "Credit-Application-Result\n",
      "Account-Balance\n",
      "Duration-of-Credit-Month\n",
      "Payment-Status-of-Previous-Credit\n",
      "Purpose\n",
      "Credit-Amount\n",
      "Value-Savings-Stocks\n",
      "Length-of-current-employment\n",
      "Instalment-per-cent\n",
      "Guarantors\n",
      "Duration-in-Current-address\n",
      "Most-valuable-available-asset\n",
      "Age-years\n",
      "Concurrent-Credits\n",
      "Type-of-apartment\n",
      "No-of-Credits-at-this-Bank\n",
      "Occupation\n",
      "No-of-dependents\n",
      "Telephone\n",
      "Foreign-Worker\n"
     ]
    }
   ],
   "source": [
    "for col in train.columns:\n",
    "    print(col)"
   ]
  },
  {
   "cell_type": "code",
   "execution_count": null,
   "metadata": {},
   "outputs": [],
   "source": []
  },
  {
   "cell_type": "code",
   "execution_count": 76,
   "metadata": {},
   "outputs": [
    {
     "name": "stdout",
     "output_type": "stream",
     "text": [
      "Credit-Application-Result\n",
      "Account-Balance\n",
      "Duration-of-Credit-Month\n",
      "Payment-Status-of-Previous-Credit\n",
      "Purpose\n",
      "Credit-Amount\n",
      "Value-Savings-Stocks\n",
      "Length-of-current-employment\n",
      "Instalment-per-cent\n",
      "Guarantors\n",
      "Duration-in-Current-address\n",
      "Most-valuable-available-asset\n",
      "Age-years\n",
      "Concurrent-Credits\n",
      "Type-of-apartment\n",
      "No-of-Credits-at-this-Bank\n",
      "Occupation\n",
      "No-of-dependents\n",
      "Telephone\n",
      "Foreign-Worker\n"
     ]
    }
   ],
   "source": [
    "for col in train.columns:\n",
    "    print(col)"
   ]
  },
  {
   "cell_type": "code",
   "execution_count": 77,
   "metadata": {},
   "outputs": [
    {
     "data": {
      "text/plain": [
       "Credit-Application-Result             object\n",
       "Account-Balance                       object\n",
       "Duration-of-Credit-Month               int64\n",
       "Payment-Status-of-Previous-Credit     object\n",
       "Purpose                               object\n",
       "Credit-Amount                          int64\n",
       "Value-Savings-Stocks                  object\n",
       "Length-of-current-employment          object\n",
       "Instalment-per-cent                    int64\n",
       "Guarantors                            object\n",
       "Duration-in-Current-address          float64\n",
       "Most-valuable-available-asset          int64\n",
       "Age-years                            float64\n",
       "Concurrent-Credits                    object\n",
       "Type-of-apartment                      int64\n",
       "No-of-Credits-at-this-Bank            object\n",
       "Occupation                             int64\n",
       "No-of-dependents                       int64\n",
       "Telephone                              int64\n",
       "Foreign-Worker                         int64\n",
       "dtype: object"
      ]
     },
     "execution_count": 77,
     "metadata": {},
     "output_type": "execute_result"
    }
   ],
   "source": [
    "train.dtypes"
   ]
  },
  {
   "cell_type": "code",
   "execution_count": 78,
   "metadata": {},
   "outputs": [
    {
     "data": {
      "text/plain": [
       "Credit-Application-Result              0\n",
       "Account-Balance                        0\n",
       "Duration-of-Credit-Month               0\n",
       "Payment-Status-of-Previous-Credit      0\n",
       "Purpose                                0\n",
       "Credit-Amount                          0\n",
       "Value-Savings-Stocks                   0\n",
       "Length-of-current-employment           0\n",
       "Instalment-per-cent                    0\n",
       "Guarantors                             0\n",
       "Duration-in-Current-address          344\n",
       "Most-valuable-available-asset          0\n",
       "Age-years                              0\n",
       "Concurrent-Credits                     0\n",
       "Type-of-apartment                      0\n",
       "No-of-Credits-at-this-Bank             0\n",
       "Occupation                             0\n",
       "No-of-dependents                       0\n",
       "Telephone                              0\n",
       "Foreign-Worker                         0\n",
       "dtype: int64"
      ]
     },
     "execution_count": 78,
     "metadata": {},
     "output_type": "execute_result"
    }
   ],
   "source": [
    "train.isnull().sum()"
   ]
  },
  {
   "cell_type": "code",
   "execution_count": 79,
   "metadata": {},
   "outputs": [
    {
     "data": {
      "text/plain": [
       "(500, 20)"
      ]
     },
     "execution_count": 79,
     "metadata": {},
     "output_type": "execute_result"
    }
   ],
   "source": [
    "train.shape"
   ]
  },
  {
   "cell_type": "markdown",
   "metadata": {},
   "source": [
    "# 3.Data-preprocessing-for-modelling"
   ]
  },
  {
   "cell_type": "markdown",
   "metadata": {},
   "source": [
    "### Dropping less important variables for building the models based the Exploratory Data Analysis"
   ]
  },
  {
   "cell_type": "code",
   "execution_count": 80,
   "metadata": {},
   "outputs": [],
   "source": [
    "# Dropping 'Occupation','Duration-in-Current-address','Concurrent-Credits',\n",
    "#'Telephone','Guarantors','Foreign-Worker','No-of-dependents' from the training features\n",
    "train.drop(['Occupation',\n",
    "            'Duration-in-Current-address',\n",
    "            'Concurrent-Credits',\n",
    "            'Telephone',\n",
    "            'Guarantors',\n",
    "            'Foreign-Worker',\n",
    "            'No-of-dependents'],\n",
    "           axis = 1,inplace = True)"
   ]
  },
  {
   "cell_type": "markdown",
   "metadata": {},
   "source": [
    "### Changing the target variable to a dummy variable"
   ]
  },
  {
   "cell_type": "code",
   "execution_count": 81,
   "metadata": {},
   "outputs": [],
   "source": [
    "train['Credit-Application-Result'] =train['Credit-Application-Result'].replace({'Creditworthy':1,'Non-Creditworthy':0})"
   ]
  },
  {
   "cell_type": "code",
   "execution_count": 82,
   "metadata": {},
   "outputs": [
    {
     "data": {
      "image/png": "[encoded data removed]",
      "text/plain": [
       "<Figure size 432x288 with 1 Axes>"
      ]
     },
     "metadata": {
      "needs_background": "light"
     },
     "output_type": "display_data"
    }
   ],
   "source": [
    "sns.countplot(train['Credit-Application-Result'])\n",
    "plt.show()"
   ]
  },
  {
   "cell_type": "markdown",
   "metadata": {},
   "source": [
    "### Changing the categorical features into dummy variables"
   ]
  },
  {
   "cell_type": "code",
   "execution_count": 83,
   "metadata": {},
   "outputs": [],
   "source": [
    "cat = train.select_dtypes('object')"
   ]
  },
  {
   "cell_type": "code",
   "execution_count": 84,
   "metadata": {},
   "outputs": [
    {
     "data": {
      "text/html": [
       "<div>\n",
       "<style scoped>\n",
       "    .dataframe tbody tr th:only-of-type {\n",
       "        vertical-align: middle;\n",
       "    }\n",
       "\n",
       "    .dataframe tbody tr th {\n",
       "        vertical-align: top;\n",
       "    }\n",
       "\n",
       "    .dataframe thead th {\n",
       "        text-align: right;\n",
       "    }\n",
       "</style>\n",
       "<table border=\"1\" class=\"dataframe\">\n",
       "  <thead>\n",
       "    <tr style=\"text-align: right;\">\n",
       "      <th></th>\n",
       "      <th>Account-Balance</th>\n",
       "      <th>Payment-Status-of-Previous-Credit</th>\n",
       "      <th>Purpose</th>\n",
       "      <th>Value-Savings-Stocks</th>\n",
       "      <th>Length-of-current-employment</th>\n",
       "      <th>No-of-Credits-at-this-Bank</th>\n",
       "    </tr>\n",
       "  </thead>\n",
       "  <tbody>\n",
       "    <tr>\n",
       "      <th>0</th>\n",
       "      <td>Some Balance</td>\n",
       "      <td>Paid Up</td>\n",
       "      <td>Not Home Related</td>\n",
       "      <td>£100-£1000</td>\n",
       "      <td>&lt; 1yr</td>\n",
       "      <td>1</td>\n",
       "    </tr>\n",
       "    <tr>\n",
       "      <th>1</th>\n",
       "      <td>Some Balance</td>\n",
       "      <td>Paid Up</td>\n",
       "      <td>Home Related</td>\n",
       "      <td>£100-£1000</td>\n",
       "      <td>&lt; 1yr</td>\n",
       "      <td>1</td>\n",
       "    </tr>\n",
       "    <tr>\n",
       "      <th>2</th>\n",
       "      <td>Some Balance</td>\n",
       "      <td>No Problems (in this bank)</td>\n",
       "      <td>Home Related</td>\n",
       "      <td>None</td>\n",
       "      <td>1-4 yrs</td>\n",
       "      <td>More than 1</td>\n",
       "    </tr>\n",
       "  </tbody>\n",
       "</table>\n",
       "</div>"
      ],
      "text/plain": [
       "  Account-Balance Payment-Status-of-Previous-Credit           Purpose  \\\n",
       "0    Some Balance                           Paid Up  Not Home Related   \n",
       "1    Some Balance                           Paid Up      Home Related   \n",
       "2    Some Balance        No Problems (in this bank)      Home Related   \n",
       "\n",
       "  Value-Savings-Stocks Length-of-current-employment No-of-Credits-at-this-Bank  \n",
       "0           £100-£1000                        < 1yr                          1  \n",
       "1           £100-£1000                        < 1yr                          1  \n",
       "2                 None                      1-4 yrs                More than 1  "
      ]
     },
     "execution_count": 84,
     "metadata": {},
     "output_type": "execute_result"
    }
   ],
   "source": [
    "cat.head(3)"
   ]
  },
  {
   "cell_type": "code",
   "execution_count": 85,
   "metadata": {},
   "outputs": [],
   "source": [
    "train = pd.get_dummies(train,columns =['Account-Balance',\n",
    "                                       'Payment-Status-of-Previous-Credit',\n",
    "                                          'Purpose',\n",
    "                                       'Value-Savings-Stocks',\n",
    "                                       'Length-of-current-employment',\n",
    "                                          'No-of-Credits-at-this-Bank'],\n",
    "                       drop_first = True )"
   ]
  },
  {
   "cell_type": "markdown",
   "metadata": {},
   "source": [
    "### Inspecting the data again"
   ]
  },
  {
   "cell_type": "code",
   "execution_count": 86,
   "metadata": {},
   "outputs": [
    {
     "data": {
      "text/plain": [
       "Credit-Application-Result                            int64\n",
       "Duration-of-Credit-Month                             int64\n",
       "Credit-Amount                                        int64\n",
       "Instalment-per-cent                                  int64\n",
       "Most-valuable-available-asset                        int64\n",
       "Age-years                                          float64\n",
       "Type-of-apartment                                    int64\n",
       "Account-Balance_Some Balance                         uint8\n",
       "Payment-Status-of-Previous-Credit_Paid Up            uint8\n",
       "Payment-Status-of-Previous-Credit_Some Problems      uint8\n",
       "Purpose_Not Home Related                             uint8\n",
       "Value-Savings-Stocks_None                            uint8\n",
       "Value-Savings-Stocks_£100-£1000                      uint8\n",
       "Length-of-current-employment_4-7 yrs                 uint8\n",
       "Length-of-current-employment_< 1yr                   uint8\n",
       "No-of-Credits-at-this-Bank_More than 1               uint8\n",
       "dtype: object"
      ]
     },
     "execution_count": 86,
     "metadata": {},
     "output_type": "execute_result"
    }
   ],
   "source": [
    "train.dtypes"
   ]
  },
  {
   "cell_type": "code",
   "execution_count": 87,
   "metadata": {},
   "outputs": [
    {
     "data": {
      "text/plain": [
       "(500, 16)"
      ]
     },
     "execution_count": 87,
     "metadata": {},
     "output_type": "execute_result"
    }
   ],
   "source": [
    "train.shape"
   ]
  },
  {
   "cell_type": "code",
   "execution_count": 88,
   "metadata": {},
   "outputs": [
    {
     "data": {
      "text/html": [
       "<div>\n",
       "<style scoped>\n",
       "    .dataframe tbody tr th:only-of-type {\n",
       "        vertical-align: middle;\n",
       "    }\n",
       "\n",
       "    .dataframe tbody tr th {\n",
       "        vertical-align: top;\n",
       "    }\n",
       "\n",
       "    .dataframe thead th {\n",
       "        text-align: right;\n",
       "    }\n",
       "</style>\n",
       "<table border=\"1\" class=\"dataframe\">\n",
       "  <thead>\n",
       "    <tr style=\"text-align: right;\">\n",
       "      <th></th>\n",
       "      <th>Credit-Application-Result</th>\n",
       "      <th>Duration-of-Credit-Month</th>\n",
       "      <th>Credit-Amount</th>\n",
       "      <th>Instalment-per-cent</th>\n",
       "      <th>Most-valuable-available-asset</th>\n",
       "      <th>Age-years</th>\n",
       "      <th>Type-of-apartment</th>\n",
       "      <th>Account-Balance_Some Balance</th>\n",
       "      <th>Payment-Status-of-Previous-Credit_Paid Up</th>\n",
       "      <th>Payment-Status-of-Previous-Credit_Some Problems</th>\n",
       "      <th>Purpose_Not Home Related</th>\n",
       "      <th>Value-Savings-Stocks_None</th>\n",
       "      <th>Value-Savings-Stocks_£100-£1000</th>\n",
       "      <th>Length-of-current-employment_4-7 yrs</th>\n",
       "      <th>Length-of-current-employment_&lt; 1yr</th>\n",
       "      <th>No-of-Credits-at-this-Bank_More than 1</th>\n",
       "    </tr>\n",
       "  </thead>\n",
       "  <tbody>\n",
       "    <tr>\n",
       "      <th>0</th>\n",
       "      <td>1</td>\n",
       "      <td>4</td>\n",
       "      <td>1494</td>\n",
       "      <td>1</td>\n",
       "      <td>1</td>\n",
       "      <td>33.0</td>\n",
       "      <td>2</td>\n",
       "      <td>1</td>\n",
       "      <td>1</td>\n",
       "      <td>0</td>\n",
       "      <td>1</td>\n",
       "      <td>0</td>\n",
       "      <td>1</td>\n",
       "      <td>0</td>\n",
       "      <td>1</td>\n",
       "      <td>0</td>\n",
       "    </tr>\n",
       "    <tr>\n",
       "      <th>1</th>\n",
       "      <td>1</td>\n",
       "      <td>4</td>\n",
       "      <td>1494</td>\n",
       "      <td>1</td>\n",
       "      <td>1</td>\n",
       "      <td>29.0</td>\n",
       "      <td>2</td>\n",
       "      <td>1</td>\n",
       "      <td>1</td>\n",
       "      <td>0</td>\n",
       "      <td>0</td>\n",
       "      <td>0</td>\n",
       "      <td>1</td>\n",
       "      <td>0</td>\n",
       "      <td>1</td>\n",
       "      <td>0</td>\n",
       "    </tr>\n",
       "    <tr>\n",
       "      <th>2</th>\n",
       "      <td>1</td>\n",
       "      <td>4</td>\n",
       "      <td>1544</td>\n",
       "      <td>2</td>\n",
       "      <td>1</td>\n",
       "      <td>42.0</td>\n",
       "      <td>2</td>\n",
       "      <td>1</td>\n",
       "      <td>0</td>\n",
       "      <td>0</td>\n",
       "      <td>0</td>\n",
       "      <td>1</td>\n",
       "      <td>0</td>\n",
       "      <td>0</td>\n",
       "      <td>0</td>\n",
       "      <td>1</td>\n",
       "    </tr>\n",
       "    <tr>\n",
       "      <th>3</th>\n",
       "      <td>1</td>\n",
       "      <td>4</td>\n",
       "      <td>3380</td>\n",
       "      <td>1</td>\n",
       "      <td>1</td>\n",
       "      <td>37.0</td>\n",
       "      <td>2</td>\n",
       "      <td>1</td>\n",
       "      <td>0</td>\n",
       "      <td>0</td>\n",
       "      <td>0</td>\n",
       "      <td>1</td>\n",
       "      <td>0</td>\n",
       "      <td>0</td>\n",
       "      <td>0</td>\n",
       "      <td>0</td>\n",
       "    </tr>\n",
       "    <tr>\n",
       "      <th>4</th>\n",
       "      <td>1</td>\n",
       "      <td>6</td>\n",
       "      <td>343</td>\n",
       "      <td>4</td>\n",
       "      <td>1</td>\n",
       "      <td>27.0</td>\n",
       "      <td>2</td>\n",
       "      <td>0</td>\n",
       "      <td>1</td>\n",
       "      <td>0</td>\n",
       "      <td>0</td>\n",
       "      <td>1</td>\n",
       "      <td>0</td>\n",
       "      <td>0</td>\n",
       "      <td>1</td>\n",
       "      <td>0</td>\n",
       "    </tr>\n",
       "  </tbody>\n",
       "</table>\n",
       "</div>"
      ],
      "text/plain": [
       "   Credit-Application-Result  Duration-of-Credit-Month  Credit-Amount  \\\n",
       "0                          1                         4           1494   \n",
       "1                          1                         4           1494   \n",
       "2                          1                         4           1544   \n",
       "3                          1                         4           3380   \n",
       "4                          1                         6            343   \n",
       "\n",
       "   Instalment-per-cent  Most-valuable-available-asset  Age-years  \\\n",
       "0                    1                              1       33.0   \n",
       "1                    1                              1       29.0   \n",
       "2                    2                              1       42.0   \n",
       "3                    1                              1       37.0   \n",
       "4                    4                              1       27.0   \n",
       "\n",
       "   Type-of-apartment  Account-Balance_Some Balance  \\\n",
       "0                  2                             1   \n",
       "1                  2                             1   \n",
       "2                  2                             1   \n",
       "3                  2                             1   \n",
       "4                  2                             0   \n",
       "\n",
       "   Payment-Status-of-Previous-Credit_Paid Up  \\\n",
       "0                                          1   \n",
       "1                                          1   \n",
       "2                                          0   \n",
       "3                                          0   \n",
       "4                                          1   \n",
       "\n",
       "   Payment-Status-of-Previous-Credit_Some Problems  Purpose_Not Home Related  \\\n",
       "0                                                0                         1   \n",
       "1                                                0                         0   \n",
       "2                                                0                         0   \n",
       "3                                                0                         0   \n",
       "4                                                0                         0   \n",
       "\n",
       "   Value-Savings-Stocks_None  Value-Savings-Stocks_£100-£1000  \\\n",
       "0                          0                                1   \n",
       "1                          0                                1   \n",
       "2                          1                                0   \n",
       "3                          1                                0   \n",
       "4                          1                                0   \n",
       "\n",
       "   Length-of-current-employment_4-7 yrs  Length-of-current-employment_< 1yr  \\\n",
       "0                                     0                                   1   \n",
       "1                                     0                                   1   \n",
       "2                                     0                                   0   \n",
       "3                                     0                                   0   \n",
       "4                                     0                                   1   \n",
       "\n",
       "   No-of-Credits-at-this-Bank_More than 1  \n",
       "0                                       0  \n",
       "1                                       0  \n",
       "2                                       1  \n",
       "3                                       0  \n",
       "4                                       0  "
      ]
     },
     "execution_count": 88,
     "metadata": {},
     "output_type": "execute_result"
    }
   ],
   "source": [
    "train.head()"
   ]
  },
  {
   "cell_type": "code",
   "execution_count": 89,
   "metadata": {
    "scrolled": true
   },
   "outputs": [
    {
     "data": {
      "text/html": [
       "<div>\n",
       "<style scoped>\n",
       "    .dataframe tbody tr th:only-of-type {\n",
       "        vertical-align: middle;\n",
       "    }\n",
       "\n",
       "    .dataframe tbody tr th {\n",
       "        vertical-align: top;\n",
       "    }\n",
       "\n",
       "    .dataframe thead th {\n",
       "        text-align: right;\n",
       "    }\n",
       "</style>\n",
       "<table border=\"1\" class=\"dataframe\">\n",
       "  <thead>\n",
       "    <tr style=\"text-align: right;\">\n",
       "      <th></th>\n",
       "      <th>Credit-Application-Result</th>\n",
       "      <th>Duration-of-Credit-Month</th>\n",
       "      <th>Credit-Amount</th>\n",
       "      <th>Instalment-per-cent</th>\n",
       "      <th>Most-valuable-available-asset</th>\n",
       "      <th>Age-years</th>\n",
       "      <th>Type-of-apartment</th>\n",
       "      <th>Account-Balance_Some Balance</th>\n",
       "      <th>Payment-Status-of-Previous-Credit_Paid Up</th>\n",
       "      <th>Payment-Status-of-Previous-Credit_Some Problems</th>\n",
       "      <th>Purpose_Not Home Related</th>\n",
       "      <th>Value-Savings-Stocks_None</th>\n",
       "      <th>Value-Savings-Stocks_£100-£1000</th>\n",
       "      <th>Length-of-current-employment_4-7 yrs</th>\n",
       "      <th>Length-of-current-employment_&lt; 1yr</th>\n",
       "      <th>No-of-Credits-at-this-Bank_More than 1</th>\n",
       "    </tr>\n",
       "  </thead>\n",
       "  <tbody>\n",
       "    <tr>\n",
       "      <th>count</th>\n",
       "      <td>500.000000</td>\n",
       "      <td>500.00000</td>\n",
       "      <td>500.000000</td>\n",
       "      <td>500.000000</td>\n",
       "      <td>500.000000</td>\n",
       "      <td>500.000000</td>\n",
       "      <td>500.000000</td>\n",
       "      <td>500.000000</td>\n",
       "      <td>500.0000</td>\n",
       "      <td>500.000000</td>\n",
       "      <td>500.000000</td>\n",
       "      <td>500.000000</td>\n",
       "      <td>500.000000</td>\n",
       "      <td>500.000000</td>\n",
       "      <td>500.000000</td>\n",
       "      <td>500.000000</td>\n",
       "    </tr>\n",
       "    <tr>\n",
       "      <th>mean</th>\n",
       "      <td>0.716000</td>\n",
       "      <td>21.43400</td>\n",
       "      <td>3199.980000</td>\n",
       "      <td>3.010000</td>\n",
       "      <td>2.360000</td>\n",
       "      <td>35.574000</td>\n",
       "      <td>1.928000</td>\n",
       "      <td>0.476000</td>\n",
       "      <td>0.5200</td>\n",
       "      <td>0.072000</td>\n",
       "      <td>0.290000</td>\n",
       "      <td>0.596000</td>\n",
       "      <td>0.308000</td>\n",
       "      <td>0.248000</td>\n",
       "      <td>0.558000</td>\n",
       "      <td>0.360000</td>\n",
       "    </tr>\n",
       "    <tr>\n",
       "      <th>std</th>\n",
       "      <td>0.451388</td>\n",
       "      <td>12.30742</td>\n",
       "      <td>2831.386861</td>\n",
       "      <td>1.113724</td>\n",
       "      <td>1.064268</td>\n",
       "      <td>11.369567</td>\n",
       "      <td>0.539814</td>\n",
       "      <td>0.499924</td>\n",
       "      <td>0.5001</td>\n",
       "      <td>0.258747</td>\n",
       "      <td>0.454216</td>\n",
       "      <td>0.491189</td>\n",
       "      <td>0.462129</td>\n",
       "      <td>0.432284</td>\n",
       "      <td>0.497122</td>\n",
       "      <td>0.480481</td>\n",
       "    </tr>\n",
       "    <tr>\n",
       "      <th>min</th>\n",
       "      <td>0.000000</td>\n",
       "      <td>4.00000</td>\n",
       "      <td>276.000000</td>\n",
       "      <td>1.000000</td>\n",
       "      <td>1.000000</td>\n",
       "      <td>19.000000</td>\n",
       "      <td>1.000000</td>\n",
       "      <td>0.000000</td>\n",
       "      <td>0.0000</td>\n",
       "      <td>0.000000</td>\n",
       "      <td>0.000000</td>\n",
       "      <td>0.000000</td>\n",
       "      <td>0.000000</td>\n",
       "      <td>0.000000</td>\n",
       "      <td>0.000000</td>\n",
       "      <td>0.000000</td>\n",
       "    </tr>\n",
       "    <tr>\n",
       "      <th>25%</th>\n",
       "      <td>0.000000</td>\n",
       "      <td>12.00000</td>\n",
       "      <td>1357.250000</td>\n",
       "      <td>2.000000</td>\n",
       "      <td>1.000000</td>\n",
       "      <td>27.000000</td>\n",
       "      <td>2.000000</td>\n",
       "      <td>0.000000</td>\n",
       "      <td>0.0000</td>\n",
       "      <td>0.000000</td>\n",
       "      <td>0.000000</td>\n",
       "      <td>0.000000</td>\n",
       "      <td>0.000000</td>\n",
       "      <td>0.000000</td>\n",
       "      <td>0.000000</td>\n",
       "      <td>0.000000</td>\n",
       "    </tr>\n",
       "    <tr>\n",
       "      <th>50%</th>\n",
       "      <td>1.000000</td>\n",
       "      <td>18.00000</td>\n",
       "      <td>2236.500000</td>\n",
       "      <td>3.000000</td>\n",
       "      <td>3.000000</td>\n",
       "      <td>33.000000</td>\n",
       "      <td>2.000000</td>\n",
       "      <td>0.000000</td>\n",
       "      <td>1.0000</td>\n",
       "      <td>0.000000</td>\n",
       "      <td>0.000000</td>\n",
       "      <td>1.000000</td>\n",
       "      <td>0.000000</td>\n",
       "      <td>0.000000</td>\n",
       "      <td>1.000000</td>\n",
       "      <td>0.000000</td>\n",
       "    </tr>\n",
       "    <tr>\n",
       "      <th>75%</th>\n",
       "      <td>1.000000</td>\n",
       "      <td>24.00000</td>\n",
       "      <td>3941.500000</td>\n",
       "      <td>4.000000</td>\n",
       "      <td>3.000000</td>\n",
       "      <td>41.000000</td>\n",
       "      <td>2.000000</td>\n",
       "      <td>1.000000</td>\n",
       "      <td>1.0000</td>\n",
       "      <td>0.000000</td>\n",
       "      <td>1.000000</td>\n",
       "      <td>1.000000</td>\n",
       "      <td>1.000000</td>\n",
       "      <td>0.000000</td>\n",
       "      <td>1.000000</td>\n",
       "      <td>1.000000</td>\n",
       "    </tr>\n",
       "    <tr>\n",
       "      <th>max</th>\n",
       "      <td>1.000000</td>\n",
       "      <td>60.00000</td>\n",
       "      <td>18424.000000</td>\n",
       "      <td>4.000000</td>\n",
       "      <td>4.000000</td>\n",
       "      <td>75.000000</td>\n",
       "      <td>3.000000</td>\n",
       "      <td>1.000000</td>\n",
       "      <td>1.0000</td>\n",
       "      <td>1.000000</td>\n",
       "      <td>1.000000</td>\n",
       "      <td>1.000000</td>\n",
       "      <td>1.000000</td>\n",
       "      <td>1.000000</td>\n",
       "      <td>1.000000</td>\n",
       "      <td>1.000000</td>\n",
       "    </tr>\n",
       "  </tbody>\n",
       "</table>\n",
       "</div>"
      ],
      "text/plain": [
       "       Credit-Application-Result  Duration-of-Credit-Month  Credit-Amount  \\\n",
       "count                 500.000000                 500.00000     500.000000   \n",
       "mean                    0.716000                  21.43400    3199.980000   \n",
       "std                     0.451388                  12.30742    2831.386861   \n",
       "min                     0.000000                   4.00000     276.000000   \n",
       "25%                     0.000000                  12.00000    1357.250000   \n",
       "50%                     1.000000                  18.00000    2236.500000   \n",
       "75%                     1.000000                  24.00000    3941.500000   \n",
       "max                     1.000000                  60.00000   18424.000000   \n",
       "\n",
       "       Instalment-per-cent  Most-valuable-available-asset   Age-years  \\\n",
       "count           500.000000                     500.000000  500.000000   \n",
       "mean              3.010000                       2.360000   35.574000   \n",
       "std               1.113724                       1.064268   11.369567   \n",
       "min               1.000000                       1.000000   19.000000   \n",
       "25%               2.000000                       1.000000   27.000000   \n",
       "50%               3.000000                       3.000000   33.000000   \n",
       "75%               4.000000                       3.000000   41.000000   \n",
       "max               4.000000                       4.000000   75.000000   \n",
       "\n",
       "       Type-of-apartment  Account-Balance_Some Balance  \\\n",
       "count         500.000000                    500.000000   \n",
       "mean            1.928000                      0.476000   \n",
       "std             0.539814                      0.499924   \n",
       "min             1.000000                      0.000000   \n",
       "25%             2.000000                      0.000000   \n",
       "50%             2.000000                      0.000000   \n",
       "75%             2.000000                      1.000000   \n",
       "max             3.000000                      1.000000   \n",
       "\n",
       "       Payment-Status-of-Previous-Credit_Paid Up  \\\n",
       "count                                   500.0000   \n",
       "mean                                      0.5200   \n",
       "std                                       0.5001   \n",
       "min                                       0.0000   \n",
       "25%                                       0.0000   \n",
       "50%                                       1.0000   \n",
       "75%                                       1.0000   \n",
       "max                                       1.0000   \n",
       "\n",
       "       Payment-Status-of-Previous-Credit_Some Problems  \\\n",
       "count                                       500.000000   \n",
       "mean                                          0.072000   \n",
       "std                                           0.258747   \n",
       "min                                           0.000000   \n",
       "25%                                           0.000000   \n",
       "50%                                           0.000000   \n",
       "75%                                           0.000000   \n",
       "max                                           1.000000   \n",
       "\n",
       "       Purpose_Not Home Related  Value-Savings-Stocks_None  \\\n",
       "count                500.000000                 500.000000   \n",
       "mean                   0.290000                   0.596000   \n",
       "std                    0.454216                   0.491189   \n",
       "min                    0.000000                   0.000000   \n",
       "25%                    0.000000                   0.000000   \n",
       "50%                    0.000000                   1.000000   \n",
       "75%                    1.000000                   1.000000   \n",
       "max                    1.000000                   1.000000   \n",
       "\n",
       "       Value-Savings-Stocks_£100-£1000  Length-of-current-employment_4-7 yrs  \\\n",
       "count                       500.000000                            500.000000   \n",
       "mean                          0.308000                              0.248000   \n",
       "std                           0.462129                              0.432284   \n",
       "min                           0.000000                              0.000000   \n",
       "25%                           0.000000                              0.000000   \n",
       "50%                           0.000000                              0.000000   \n",
       "75%                           1.000000                              0.000000   \n",
       "max                           1.000000                              1.000000   \n",
       "\n",
       "       Length-of-current-employment_< 1yr  \\\n",
       "count                          500.000000   \n",
       "mean                             0.558000   \n",
       "std                              0.497122   \n",
       "min                              0.000000   \n",
       "25%                              0.000000   \n",
       "50%                              1.000000   \n",
       "75%                              1.000000   \n",
       "max                              1.000000   \n",
       "\n",
       "       No-of-Credits-at-this-Bank_More than 1  \n",
       "count                              500.000000  \n",
       "mean                                 0.360000  \n",
       "std                                  0.480481  \n",
       "min                                  0.000000  \n",
       "25%                                  0.000000  \n",
       "50%                                  0.000000  \n",
       "75%                                  1.000000  \n",
       "max                                  1.000000  "
      ]
     },
     "execution_count": 89,
     "metadata": {},
     "output_type": "execute_result"
    }
   ],
   "source": [
    "train.describe()"
   ]
  },
  {
   "cell_type": "markdown",
   "metadata": {},
   "source": [
    "A general inspection of the descriptive statistics above indicates that variables have different scales which may cause models to put more weight on those with high values at the expense of those with low values.\n",
    "\n",
    "To resolve this, the variables may or may not be scaled depending on the kind of algorithm that is used."
   ]
  },
  {
   "cell_type": "code",
   "execution_count": null,
   "metadata": {},
   "outputs": [],
   "source": []
  },
  {
   "cell_type": "markdown",
   "metadata": {},
   "source": [
    "\n",
    "### Seperating the data into target variable and predictors"
   ]
  },
  {
   "cell_type": "code",
   "execution_count": 90,
   "metadata": {},
   "outputs": [],
   "source": [
    "# predictors\n",
    "X = train.drop('Credit-Application-Result',axis = 1)\n",
    "\n",
    "# Target variable\n",
    "y = train['Credit-Application-Result']# "
   ]
  },
  {
   "cell_type": "code",
   "execution_count": 91,
   "metadata": {},
   "outputs": [
    {
     "data": {
      "text/html": [
       "<div>\n",
       "<style scoped>\n",
       "    .dataframe tbody tr th:only-of-type {\n",
       "        vertical-align: middle;\n",
       "    }\n",
       "\n",
       "    .dataframe tbody tr th {\n",
       "        vertical-align: top;\n",
       "    }\n",
       "\n",
       "    .dataframe thead th {\n",
       "        text-align: right;\n",
       "    }\n",
       "</style>\n",
       "<table border=\"1\" class=\"dataframe\">\n",
       "  <thead>\n",
       "    <tr style=\"text-align: right;\">\n",
       "      <th></th>\n",
       "      <th>Duration-of-Credit-Month</th>\n",
       "      <th>Credit-Amount</th>\n",
       "      <th>Instalment-per-cent</th>\n",
       "      <th>Most-valuable-available-asset</th>\n",
       "      <th>Age-years</th>\n",
       "      <th>Type-of-apartment</th>\n",
       "      <th>Account-Balance_Some Balance</th>\n",
       "      <th>Payment-Status-of-Previous-Credit_Paid Up</th>\n",
       "      <th>Payment-Status-of-Previous-Credit_Some Problems</th>\n",
       "      <th>Purpose_Not Home Related</th>\n",
       "      <th>Value-Savings-Stocks_None</th>\n",
       "      <th>Value-Savings-Stocks_£100-£1000</th>\n",
       "      <th>Length-of-current-employment_4-7 yrs</th>\n",
       "      <th>Length-of-current-employment_&lt; 1yr</th>\n",
       "      <th>No-of-Credits-at-this-Bank_More than 1</th>\n",
       "    </tr>\n",
       "  </thead>\n",
       "  <tbody>\n",
       "    <tr>\n",
       "      <th>0</th>\n",
       "      <td>4</td>\n",
       "      <td>1494</td>\n",
       "      <td>1</td>\n",
       "      <td>1</td>\n",
       "      <td>33.0</td>\n",
       "      <td>2</td>\n",
       "      <td>1</td>\n",
       "      <td>1</td>\n",
       "      <td>0</td>\n",
       "      <td>1</td>\n",
       "      <td>0</td>\n",
       "      <td>1</td>\n",
       "      <td>0</td>\n",
       "      <td>1</td>\n",
       "      <td>0</td>\n",
       "    </tr>\n",
       "    <tr>\n",
       "      <th>1</th>\n",
       "      <td>4</td>\n",
       "      <td>1494</td>\n",
       "      <td>1</td>\n",
       "      <td>1</td>\n",
       "      <td>29.0</td>\n",
       "      <td>2</td>\n",
       "      <td>1</td>\n",
       "      <td>1</td>\n",
       "      <td>0</td>\n",
       "      <td>0</td>\n",
       "      <td>0</td>\n",
       "      <td>1</td>\n",
       "      <td>0</td>\n",
       "      <td>1</td>\n",
       "      <td>0</td>\n",
       "    </tr>\n",
       "    <tr>\n",
       "      <th>2</th>\n",
       "      <td>4</td>\n",
       "      <td>1544</td>\n",
       "      <td>2</td>\n",
       "      <td>1</td>\n",
       "      <td>42.0</td>\n",
       "      <td>2</td>\n",
       "      <td>1</td>\n",
       "      <td>0</td>\n",
       "      <td>0</td>\n",
       "      <td>0</td>\n",
       "      <td>1</td>\n",
       "      <td>0</td>\n",
       "      <td>0</td>\n",
       "      <td>0</td>\n",
       "      <td>1</td>\n",
       "    </tr>\n",
       "    <tr>\n",
       "      <th>3</th>\n",
       "      <td>4</td>\n",
       "      <td>3380</td>\n",
       "      <td>1</td>\n",
       "      <td>1</td>\n",
       "      <td>37.0</td>\n",
       "      <td>2</td>\n",
       "      <td>1</td>\n",
       "      <td>0</td>\n",
       "      <td>0</td>\n",
       "      <td>0</td>\n",
       "      <td>1</td>\n",
       "      <td>0</td>\n",
       "      <td>0</td>\n",
       "      <td>0</td>\n",
       "      <td>0</td>\n",
       "    </tr>\n",
       "    <tr>\n",
       "      <th>4</th>\n",
       "      <td>6</td>\n",
       "      <td>343</td>\n",
       "      <td>4</td>\n",
       "      <td>1</td>\n",
       "      <td>27.0</td>\n",
       "      <td>2</td>\n",
       "      <td>0</td>\n",
       "      <td>1</td>\n",
       "      <td>0</td>\n",
       "      <td>0</td>\n",
       "      <td>1</td>\n",
       "      <td>0</td>\n",
       "      <td>0</td>\n",
       "      <td>1</td>\n",
       "      <td>0</td>\n",
       "    </tr>\n",
       "  </tbody>\n",
       "</table>\n",
       "</div>"
      ],
      "text/plain": [
       "   Duration-of-Credit-Month  Credit-Amount  Instalment-per-cent  \\\n",
       "0                         4           1494                    1   \n",
       "1                         4           1494                    1   \n",
       "2                         4           1544                    2   \n",
       "3                         4           3380                    1   \n",
       "4                         6            343                    4   \n",
       "\n",
       "   Most-valuable-available-asset  Age-years  Type-of-apartment  \\\n",
       "0                              1       33.0                  2   \n",
       "1                              1       29.0                  2   \n",
       "2                              1       42.0                  2   \n",
       "3                              1       37.0                  2   \n",
       "4                              1       27.0                  2   \n",
       "\n",
       "   Account-Balance_Some Balance  Payment-Status-of-Previous-Credit_Paid Up  \\\n",
       "0                             1                                          1   \n",
       "1                             1                                          1   \n",
       "2                             1                                          0   \n",
       "3                             1                                          0   \n",
       "4                             0                                          1   \n",
       "\n",
       "   Payment-Status-of-Previous-Credit_Some Problems  Purpose_Not Home Related  \\\n",
       "0                                                0                         1   \n",
       "1                                                0                         0   \n",
       "2                                                0                         0   \n",
       "3                                                0                         0   \n",
       "4                                                0                         0   \n",
       "\n",
       "   Value-Savings-Stocks_None  Value-Savings-Stocks_£100-£1000  \\\n",
       "0                          0                                1   \n",
       "1                          0                                1   \n",
       "2                          1                                0   \n",
       "3                          1                                0   \n",
       "4                          1                                0   \n",
       "\n",
       "   Length-of-current-employment_4-7 yrs  Length-of-current-employment_< 1yr  \\\n",
       "0                                     0                                   1   \n",
       "1                                     0                                   1   \n",
       "2                                     0                                   0   \n",
       "3                                     0                                   0   \n",
       "4                                     0                                   1   \n",
       "\n",
       "   No-of-Credits-at-this-Bank_More than 1  \n",
       "0                                       0  \n",
       "1                                       0  \n",
       "2                                       1  \n",
       "3                                       0  \n",
       "4                                       0  "
      ]
     },
     "execution_count": 91,
     "metadata": {},
     "output_type": "execute_result"
    }
   ],
   "source": [
    "X.head()"
   ]
  },
  {
   "cell_type": "code",
   "execution_count": 92,
   "metadata": {},
   "outputs": [
    {
     "data": {
      "text/plain": [
       "0    1\n",
       "1    1\n",
       "2    1\n",
       "3    1\n",
       "4    1\n",
       "Name: Credit-Application-Result, dtype: int64"
      ]
     },
     "execution_count": 92,
     "metadata": {},
     "output_type": "execute_result"
    }
   ],
   "source": [
    "y.head()"
   ]
  },
  {
   "cell_type": "markdown",
   "metadata": {},
   "source": [
    "### Splitting the data into train_set and test_set"
   ]
  },
  {
   "cell_type": "code",
   "execution_count": 93,
   "metadata": {},
   "outputs": [],
   "source": [
    "X_train,X_test,y_train,y_test = train_test_split(X,y,test_size = 0.3,stratify = y,random_state = 0)"
   ]
  },
  {
   "cell_type": "code",
   "execution_count": null,
   "metadata": {},
   "outputs": [],
   "source": []
  },
  {
   "cell_type": "markdown",
   "metadata": {},
   "source": [
    "### Checking whether the target variable is balanced or not"
   ]
  },
  {
   "cell_type": "code",
   "execution_count": 94,
   "metadata": {},
   "outputs": [
    {
     "data": {
      "image/png": "[encoded data removed]",
      "text/plain": [
       "<Figure size 432x288 with 1 Axes>"
      ]
     },
     "metadata": {
      "needs_background": "light"
     },
     "output_type": "display_data"
    }
   ],
   "source": [
    "sns.countplot(y_train)\n",
    "plt.title('Count plot before oversampling')\n",
    "plt.show()"
   ]
  },
  {
   "cell_type": "markdown",
   "metadata": {},
   "source": [
    "The graph above shows that the classes target variable is not balanced.\n",
    "\n",
    "This presupposes that accuracy would not a good metric for measuring the performance of models built on this data.\n",
    "Other metrics need to be employed in this case or the data should be balanced by employing a statiscal technique."
   ]
  },
  {
   "cell_type": "code",
   "execution_count": null,
   "metadata": {},
   "outputs": [],
   "source": []
  },
  {
   "cell_type": "markdown",
   "metadata": {},
   "source": [
    "# 4.Building-of-Models"
   ]
  },
  {
   "cell_type": "markdown",
   "metadata": {},
   "source": [
    "**In order to optimize the models, gridsearch with cross validation is applied to tune the hyperparameters of the different algorithms.**"
   ]
  },
  {
   "cell_type": "markdown",
   "metadata": {},
   "source": [
    "## Decision tree as a base model"
   ]
  },
  {
   "cell_type": "markdown",
   "metadata": {},
   "source": [
    "**Decision tree classifier before hyperparameter tuning**"
   ]
  },
  {
   "cell_type": "code",
   "execution_count": 95,
   "metadata": {},
   "outputs": [
    {
     "name": "stdout",
     "output_type": "stream",
     "text": [
      "train accuracy: 1.00\n",
      "test accuracy: 0.74\n"
     ]
    }
   ],
   "source": [
    "#Instantiating the model\n",
    "tree = DecisionTreeClassifier(random_state=42)\n",
    "\n",
    "#Fitting the model\n",
    "tree.fit(X_train,y_train)\n",
    "tree_y_pred = tree.predict(X_test)\n",
    "\n",
    "# Print train and test accuracies\n",
    "print('train accuracy: {:.2f}'.format(tree.score(X_train,y_train)))\n",
    "print('test accuracy: {:.2f}'.format(tree.score(X_test,y_test)))"
   ]
  },
  {
   "cell_type": "markdown",
   "metadata": {},
   "source": [
    "**Hyperparameter tuning for decision tree**"
   ]
  },
  {
   "cell_type": "code",
   "execution_count": 96,
   "metadata": {},
   "outputs": [
    {
     "name": "stdout",
     "output_type": "stream",
     "text": [
      "Best cross-validation acuracy: 0.75\n",
      "Best test score: 0.75\n",
      "Best parameters: {'max_features': 5, 'max_leaf_nodes': 5}\n"
     ]
    }
   ],
   "source": [
    "# Hyperparameter tuning using gridsearch and cross validation.\n",
    "\n",
    "#Instantiating the model\n",
    "tree = DecisionTreeClassifier(random_state=42)\n",
    "param_grid = {'max_features': [1,2,3,4,5,6,7,8,9,10],'max_leaf_nodes':[1,2, 3,4,5,6,7,8,9,10]}\n",
    "grid_tree = GridSearchCV(tree, param_grid = param_grid,cv =5)\n",
    "grid_tree.fit(X_train,y_train)\n",
    "print('Best cross-validation acuracy: {:.2f}'.format(grid_tree.best_score_))\n",
    "print('Best test score: {:.2f}'.format(grid_tree.score(X_test,y_test)))\n",
    "print('Best parameters:',grid_tree.best_params_)\n"
   ]
  },
  {
   "cell_type": "markdown",
   "metadata": {},
   "source": [
    "**Decision tree classifier after hyperparameter tuning**"
   ]
  },
  {
   "cell_type": "code",
   "execution_count": 97,
   "metadata": {},
   "outputs": [
    {
     "name": "stdout",
     "output_type": "stream",
     "text": [
      "train accuracy: 0.78\n",
      "test accuracy: 0.79\n"
     ]
    }
   ],
   "source": [
    "#Instantiating the model\n",
    "tree = DecisionTreeClassifier(max_features=10,max_leaf_nodes=5,random_state=42)\n",
    "\n",
    "#Fitting the model\n",
    "tree.fit(X_train,y_train)\n",
    "tree_y_pred = tree.predict(X_test)\n",
    "\n",
    "# Print train and test accuracies\n",
    "print('train accuracy: {:.2f}'.format(tree.score(X_train,y_train)))\n",
    "print('test accuracy: {:.2f}'.format(tree.score(X_test,y_test)))\n"
   ]
  },
  {
   "cell_type": "markdown",
   "metadata": {},
   "source": [
    "A train accuracy of 0.78 (0.78%) and a test accuracy of 0.79(78%) indicates that model is doing quiet well and  it is not overfitting.\n",
    "\n",
    "Different models are bui are built below in other to the best model."
   ]
  },
  {
   "cell_type": "code",
   "execution_count": null,
   "metadata": {},
   "outputs": [],
   "source": []
  },
  {
   "cell_type": "markdown",
   "metadata": {},
   "source": [
    "# Logistic Regression"
   ]
  },
  {
   "cell_type": "markdown",
   "metadata": {},
   "source": [
    "**Logistic Regression before hyperparameter tuning**"
   ]
  },
  {
   "cell_type": "code",
   "execution_count": 98,
   "metadata": {},
   "outputs": [
    {
     "name": "stdout",
     "output_type": "stream",
     "text": [
      "train score: 0.77\n",
      "test score: 0.81\n"
     ]
    }
   ],
   "source": [
    "lgr = LogisticRegression()\n",
    "lgr.fit(X_train,y_train)\n",
    "print('train score: {:.2f}'.format(lgr.score(X_train,y_train)))\n",
    "print('test score: {:.2f}'.format(lgr.score(X_test,y_test)))\n"
   ]
  },
  {
   "cell_type": "markdown",
   "metadata": {},
   "source": [
    "**Hyperparameter tuning for Logistic Regression**"
   ]
  },
  {
   "cell_type": "code",
   "execution_count": 99,
   "metadata": {},
   "outputs": [
    {
     "name": "stdout",
     "output_type": "stream",
     "text": [
      "Best cross-validation acuracy: 0.73\n",
      "Best test score: 0.80\n",
      "Best parameters: {'C': 8}\n"
     ]
    }
   ],
   "source": [
    "# Hyperparameter tuning\n",
    "lr = LogisticRegression()\n",
    "param_grid = {'C': [1,2,3,4,5,6,7,8,9,10,11]}\n",
    "grid_lgr = GridSearchCV(lr, param_grid, cv=5)\n",
    "grid_lgr.fit(X_train,y_train)\n",
    "print('Best cross-validation acuracy: {:.2f}'.format(grid_lgr.best_score_))\n",
    "print('Best test score: {:.2f}'.format(grid_lgr.score(X_test,y_test)))\n",
    "print('Best parameters:',grid_lgr.best_params_)\n"
   ]
  },
  {
   "cell_type": "markdown",
   "metadata": {},
   "source": [
    "**Logistic Regression after hyperparameter tuning**"
   ]
  },
  {
   "cell_type": "code",
   "execution_count": 100,
   "metadata": {},
   "outputs": [
    {
     "name": "stdout",
     "output_type": "stream",
     "text": [
      "train score: 0.77\n",
      "test score: 0.82\n"
     ]
    }
   ],
   "source": [
    "# Logistic regression with tuned hyper-parameters\n",
    "\n",
    "lgr = LogisticRegression(C=2).fit(X_train,y_train)\n",
    "print('train score: {:.2f}'.format(lgr.score(X_train,y_train)))\n",
    "print('test score: {:.2f}'.format(lgr.score(X_test,y_test)))\n",
    "lgr_y_pred =lgr.predict(X_test)"
   ]
  },
  {
   "cell_type": "markdown",
   "metadata": {},
   "source": [
    "# Support Vector Machine"
   ]
  },
  {
   "cell_type": "markdown",
   "metadata": {},
   "source": [
    "**Support vector classifier before hyperparameter tuning**"
   ]
  },
  {
   "cell_type": "code",
   "execution_count": 101,
   "metadata": {},
   "outputs": [
    {
     "name": "stdout",
     "output_type": "stream",
     "text": [
      "train score: 0.82\n",
      "test score: 0.80\n"
     ]
    }
   ],
   "source": [
    "# SVC with tuned Hyper-parameters\n",
    "\n",
    "Svc = Pipeline([('Scaler',StandardScaler()),('SVC',SVC(probability=True))])\n",
    "Svc_model = Svc.fit(X_train,y_train)\n",
    "print('train score: {:.2f}'.format(Svc_model.score(X_train,y_train)))\n",
    "print('test score: {:.2f}'.format(Svc_model.score(X_test,y_test)))"
   ]
  },
  {
   "cell_type": "markdown",
   "metadata": {},
   "source": [
    "**Hyperparameter tuning for Support vector classifier**"
   ]
  },
  {
   "cell_type": "code",
   "execution_count": 102,
   "metadata": {},
   "outputs": [
    {
     "name": "stdout",
     "output_type": "stream",
     "text": [
      "Best cross-validation acuracy: 0.76\n",
      "Best test score: 0.80\n",
      "Best parameters: {'SVC__C': 10, 'SVC__gamma': 0.01}\n"
     ]
    }
   ],
   "source": [
    "#Hyper-parameter tuning with using pipline and gridsearch\n",
    "\n",
    "pipe = Pipeline([('Scaler',StandardScaler()),('SVC',SVC(probability=True))])\n",
    "param_grid = {'SVC__C':[0.001,0.01,0.1,1,10,100],\n",
    "            'SVC__gamma':[0.001,0.01,0.1,1,10,100]}\n",
    "grid = GridSearchCV(pipe, param_grid = param_grid,cv =5)\n",
    "grid.fit(X_train,y_train)\n",
    "print('Best cross-validation acuracy: {:.2f}'.format(grid.best_score_))\n",
    "#print('Best train score: {:.2f}'.format(grid.score(X_train,y_train)))\n",
    "print('Best test score: {:.2f}'.format(grid.score(X_test,y_test)))\n",
    "print('Best parameters:',grid.best_params_)"
   ]
  },
  {
   "cell_type": "markdown",
   "metadata": {},
   "source": [
    "**Support vector classifier after hyperparameter tuning**"
   ]
  },
  {
   "cell_type": "code",
   "execution_count": 103,
   "metadata": {},
   "outputs": [
    {
     "name": "stdout",
     "output_type": "stream",
     "text": [
      "train score: 0.80\n",
      "test score: 0.80\n"
     ]
    }
   ],
   "source": [
    "# SVC with tuned Hyper-parameters\n",
    "Svc = Pipeline([('Scaler',StandardScaler()),('SVC',SVC(C=10,gamma=0.01,probability=True))])\n",
    "Svc_model = Svc.fit(X_train,y_train)\n",
    "print('train score: {:.2f}'.format(Svc_model.score(X_train,y_train)))\n",
    "print('test score: {:.2f}'.format(Svc_model.score(X_test,y_test)))\n",
    "Svc_y_pred = Svc_model.predict(X_test)"
   ]
  },
  {
   "cell_type": "code",
   "execution_count": null,
   "metadata": {},
   "outputs": [],
   "source": []
  },
  {
   "cell_type": "markdown",
   "metadata": {},
   "source": [
    "# Random Forest"
   ]
  },
  {
   "cell_type": "markdown",
   "metadata": {},
   "source": [
    "**Random Forest classifier before hyperparameter tuning**"
   ]
  },
  {
   "cell_type": "code",
   "execution_count": 104,
   "metadata": {},
   "outputs": [
    {
     "name": "stdout",
     "output_type": "stream",
     "text": [
      "train score: 1.00\n",
      "test score: 0.81\n"
     ]
    }
   ],
   "source": [
    "rfc = RandomForestClassifier(random_state = 0)\n",
    "rfc.fit(X_train,y_train)\n",
    "print('train score: {:.2f}'.format(rfc.score(X_train,y_train)))\n",
    "print('test score: {:.2f}'.format(rfc.score(X_test,y_test)))\n"
   ]
  },
  {
   "cell_type": "markdown",
   "metadata": {},
   "source": [
    "**Hyperparameter tuning for Random Forestclassifier**"
   ]
  },
  {
   "cell_type": "code",
   "execution_count": 105,
   "metadata": {},
   "outputs": [
    {
     "name": "stdout",
     "output_type": "stream",
     "text": [
      "Best cross-validation acuracy: 0.76\n",
      "Best test score: 0.80\n",
      "Best parameters: {'max_features': 6, 'max_leaf_nodes': 7}\n"
     ]
    }
   ],
   "source": [
    "rfc = RandomForestClassifier(random_state = 0)\n",
    "param_grid = {'max_features': [1,2,3,4,5,6,7,8,9,10],'max_leaf_nodes':[1,2, 3,4,5,6,7,8,9,10]}\n",
    "grid_rfc = GridSearchCV(rfc, param_grid = param_grid,cv =5)\n",
    "grid_rfc.fit(X_train,y_train)\n",
    "print('Best cross-validation acuracy: {:.2f}'.format(grid_rfc.best_score_))\n",
    "print('Best test score: {:.2f}'.format(grid_rfc.score(X_test,y_test)))\n",
    "print('Best parameters:',grid_rfc.best_params_)"
   ]
  },
  {
   "cell_type": "markdown",
   "metadata": {},
   "source": [
    "**Random Forest  classifier after hyperparameter tuning**"
   ]
  },
  {
   "cell_type": "code",
   "execution_count": 106,
   "metadata": {},
   "outputs": [
    {
     "name": "stdout",
     "output_type": "stream",
     "text": [
      "train score: 0.83\n",
      "test score: 0.81\n"
     ]
    }
   ],
   "source": [
    "rfc = RandomForestClassifier(max_features=5,max_leaf_nodes=10,random_state = 0)\n",
    "rfc.fit(X_train,y_train)\n",
    "print('train score: {:.2f}'.format(rfc.score(X_train,y_train)))\n",
    "print('test score: {:.2f}'.format(rfc.score(X_test,y_test)))\n",
    "rfc_y_pred = rfc.predict(X_test)"
   ]
  },
  {
   "cell_type": "markdown",
   "metadata": {},
   "source": [
    "## Gradient Boosting Classifier"
   ]
  },
  {
   "cell_type": "markdown",
   "metadata": {},
   "source": [
    "Gradient Boosting Classifier before hyperparameter tuning"
   ]
  },
  {
   "cell_type": "code",
   "execution_count": 107,
   "metadata": {},
   "outputs": [
    {
     "name": "stdout",
     "output_type": "stream",
     "text": [
      "Train accuracy of GradientBoosting Classifier: 1.000\n",
      "Test accuracy of GradientBoosting Classifier: 0.767\n"
     ]
    }
   ],
   "source": [
    "gbc = GradientBoostingClassifier(n_estimators=300,random_state=42)\n",
    "gbc.fit(X_train,y_train)\n",
    "print('Train accuracy of GradientBoosting Classifier: {:.3f}'.format(gbc.score(X_train,y_train)))\n",
    "print('Test accuracy of GradientBoosting Classifier: {:.3f}'.format(gbc.score(X_test,y_test)))"
   ]
  },
  {
   "cell_type": "markdown",
   "metadata": {},
   "source": [
    "**Hyperparameter for Gradient Boosting Classifier**"
   ]
  },
  {
   "cell_type": "code",
   "execution_count": 108,
   "metadata": {},
   "outputs": [
    {
     "name": "stdout",
     "output_type": "stream",
     "text": [
      "Best cross-validation acuracy: 0.77\n",
      "Best test score: 0.79\n",
      "Best parameters: {'max_features': 1, 'max_leaf_nodes': 2}\n"
     ]
    }
   ],
   "source": [
    "gbc = GradientBoostingClassifier(n_estimators=300, max_depth=1, random_state=42)\n",
    "param_grid = {'max_features': [1,2,3,4,5,6,7,8,9,10],'max_leaf_nodes':[1,2, 3,4,5,6,7,8,9,10]}\n",
    "grid_gbc = GridSearchCV(gbc, param_grid = param_grid,cv =5)\n",
    "\n",
    "grid_gbc.fit(X_train,y_train)\n",
    "print('Best cross-validation acuracy: {:.2f}'.format(grid_gbc.best_score_))\n",
    "print('Best test score: {:.2f}'.format(grid_gbc.score(X_test,y_test)))\n",
    "print('Best parameters:',grid_gbc.best_params_)"
   ]
  },
  {
   "cell_type": "markdown",
   "metadata": {},
   "source": [
    "**Gradient Boosting Classifier after hyperparameter tuning**"
   ]
  },
  {
   "cell_type": "code",
   "execution_count": 109,
   "metadata": {},
   "outputs": [
    {
     "name": "stdout",
     "output_type": "stream",
     "text": [
      "Train accuracy of GradientBoosting Classifier: 0.829\n",
      "Test accuracy of GradientBoosting Classifier: 0.780\n"
     ]
    }
   ],
   "source": [
    "gbc = GradientBoostingClassifier(n_estimators=500,max_depth=3,max_features=3,max_leaf_nodes=2,random_state=42)\n",
    "gbc.fit(X_train,y_train)\n",
    "gbc_y_pred =gbc.predict(X_test) \n",
    "print('Train accuracy of GradientBoosting Classifier: {:.3f}'.format(gbc.score(X_train,y_train)))\n",
    "print('Test accuracy of GradientBoosting Classifier: {:.3f}'.format(gbc.score(X_test,y_test)))"
   ]
  },
  {
   "cell_type": "code",
   "execution_count": null,
   "metadata": {},
   "outputs": [],
   "source": []
  },
  {
   "cell_type": "code",
   "execution_count": null,
   "metadata": {},
   "outputs": [],
   "source": []
  },
  {
   "cell_type": "markdown",
   "metadata": {},
   "source": [
    "## Ada Boost Classifier"
   ]
  },
  {
   "cell_type": "code",
   "execution_count": 110,
   "metadata": {},
   "outputs": [
    {
     "name": "stdout",
     "output_type": "stream",
     "text": [
      "Train accuracy of AdaBoostClassifier: 0.863\n",
      "Test accuracy of AdaBoostClassifier: 0.773\n"
     ]
    }
   ],
   "source": [
    "# Instantiate a decition tree classifier\n",
    "dt=DecisionTreeClassifier(max_depth=1,max_leaf_nodes=2,random_state=42)\n",
    "\n",
    "# Instantiate an AdaBoost classifier\n",
    "adb_clf = AdaBoostClassifier(base_estimator=dt, n_estimators=100,random_state=0)\n",
    "\n",
    "# Fit 'adb_clf' to the training set\n",
    "adb_clf.fit(X_train,y_train)\n",
    "adb_y_pred = adb_clf.predict(X_test)\n",
    "print('Train accuracy of AdaBoostClassifier: {:.3f}'.format(adb_clf.score(X_train,y_train)))\n",
    "print('Test accuracy of AdaBoostClassifier: {:.3f}'.format(adb_clf.score(X_test,y_test)))"
   ]
  },
  {
   "cell_type": "markdown",
   "metadata": {},
   "source": [
    "# Votting classifier"
   ]
  },
  {
   "cell_type": "code",
   "execution_count": 111,
   "metadata": {},
   "outputs": [],
   "source": [
    "# Instantiate individual classifiers\n",
    "Logr = LogisticRegression(random_state=42,C=6)\n",
    "Svc = SVC(C=10,gamma=0.01,probability=True)\n",
    "Dtr = DecisionTreeClassifier(max_features=10,max_leaf_nodes=5,random_state=42)\n",
    "\n",
    "# Define a list called classifier that contains the tuples (classifier_name, classifier)\n",
    "classifiers = [('Logistic Regression', Logr),\n",
    "('svc', Svc),\n",
    "('Classification Tree', Dtr)]"
   ]
  },
  {
   "cell_type": "code",
   "execution_count": 112,
   "metadata": {},
   "outputs": [
    {
     "name": "stdout",
     "output_type": "stream",
     "text": [
      "Logistic Regression : 0.820\n",
      "svc : 0.707\n",
      "Classification Tree : 0.793\n"
     ]
    }
   ],
   "source": [
    "# Iterate over the defined list of tuples containing the classifiers\n",
    "for clf_name, clf in classifiers:\n",
    "        #fit clf to the training set\n",
    "        clf.fit(X_train,y_train)\n",
    "        # Predict the labels of the test set\n",
    "        y_pred = clf.predict(X_test)\n",
    "        # Evaluate the accuracy of clf on the test set\n",
    "        print('{:s} : {:.3f}'.format(clf_name, accuracy_score(y_test, y_pred)))"
   ]
  },
  {
   "cell_type": "markdown",
   "metadata": {},
   "source": [
    "**combining the Logistic Regression,Svc and the Decision tree classifier**\n",
    "\n",
    "**to form a stronger model using votting classifier**"
   ]
  },
  {
   "cell_type": "code",
   "execution_count": 113,
   "metadata": {},
   "outputs": [
    {
     "name": "stdout",
     "output_type": "stream",
     "text": [
      "Voting Classifier train accuracy: 0.831 \n",
      "Voting Classifier test accuracy: 0.833\n"
     ]
    }
   ],
   "source": [
    "\n",
    "#Instantiating  votting classifier\n",
    "vc = VotingClassifier(estimators=classifiers,voting = 'hard')\n",
    "\n",
    "# Fit 'vc' to the traing set and predict test set labels\n",
    "vc.fit(X_train,y_train)\n",
    "vc_y_pred = vc.predict(X_test)\n",
    "# Evaluate the test-set accuracy of 'vc'\n",
    "print('Voting Classifier train accuracy: {:.3f} '.format(vc.score(X_train,y_train)))\n",
    "print('Voting Classifier test accuracy: {:.3f}'.format(accuracy_score(y_test, vc_y_pred)))"
   ]
  },
  {
   "cell_type": "code",
   "execution_count": null,
   "metadata": {},
   "outputs": [],
   "source": []
  },
  {
   "cell_type": "markdown",
   "metadata": {},
   "source": [
    "# 5.Model-Evaluation-and-Comparison"
   ]
  },
  {
   "cell_type": "markdown",
   "metadata": {},
   "source": [
    "Different metrics are considered for evaluating and comparing the models.\n",
    "Since the classes in the target variable (Credit-Application-Result) is not balanced, \n",
    "accuracy is definetly not a good metric to rely on in this case hence will be used to only check for overfitting and underfitting.\n",
    "Confusion matrix,F1 score,and Receiver Operation Curve will employed in evaluating and comparing the models."
   ]
  },
  {
   "cell_type": "markdown",
   "metadata": {},
   "source": [
    "## Accuracies and F1 scores "
   ]
  },
  {
   "cell_type": "code",
   "execution_count": 114,
   "metadata": {},
   "outputs": [],
   "source": [
    "# 1.Decision tree\n",
    "dct_train_score =tree.score(X_train,y_train)\n",
    "dct_test_score =tree.score(X_test,y_test)\n",
    "dct_f1_score = f1_score(y_test,tree_y_pred)\n",
    "\n",
    "# 2.Logistic regression\n",
    "lgr_train_score = lgr.score(X_train,y_train)\n",
    "lgr_test_score = lgr.score(X_test,y_test)\n",
    "lgr_f1_score    =f1_score(y_test,lgr_y_pred)\n",
    "\n",
    "# 3.Support vector classifier\n",
    "svc_train_score =Svc_model.score(X_train,y_train)\n",
    "svc_test_score=Svc_model.score(X_test,y_test)\n",
    "svc_f1_score=f1_score(y_test,Svc_y_pred)\n",
    "\n",
    "# 4.Random Forest\n",
    "rfc_train_score =rfc.score(X_train,y_train)\n",
    "rfc_test_score=rfc.score(X_test,y_test)\n",
    "rfc_f1_score=f1_score(y_test,rfc_y_pred)\n",
    "\n",
    "# 5.Gradient Boost Classifier\n",
    "gbc_train_score=gbc.score(X_train,y_train)\n",
    "gbc_test_score=gbc.score(X_test,y_test)\n",
    "gbc_f1_score=f1_score(y_test,gbc_y_pred)\n",
    "\n",
    "# 6.Ada Boost\n",
    "adb_train_score=adb_clf.score(X_train,y_train)\n",
    "adb_test_score=adb_clf.score(X_test,y_test)\n",
    "adb_f1_score=f1_score(y_test,adb_y_pred)\n",
    "\n",
    "# 7.Votting classifier\n",
    "vc_train_score=vc.score(X_train,y_train)\n",
    "vc_test_score=vc.score(X_test,y_test)\n",
    "vc_f1_score=ada_f1_score=f1_score(y_test,vc_y_pred)\n",
    "\n",
    "\n"
   ]
  },
  {
   "cell_type": "markdown",
   "metadata": {},
   "source": [
    "## Creating a DataFrame with Models,Accuracy Scores and F1_scores"
   ]
  },
  {
   "cell_type": "code",
   "execution_count": 115,
   "metadata": {},
   "outputs": [],
   "source": [
    "Model =['Decision tree','Logistic regression','SVC','Random Forest','Gradient Boost','Ada Boost','Votting classifier']\n",
    "\n",
    "Train_accuracy = [dct_train_score,lgr_train_score,svc_train_score,rfc_train_score,gbc_train_score,adb_train_score,vc_train_score]\n",
    "\n",
    "Test_accuracy = [dct_test_score,lgr_test_score,svc_test_score,rfc_test_score,gbc_test_score,adb_test_score,vc_test_score]\n",
    "\n",
    "F1_score = [dct_f1_score,lgr_f1_score,svc_f1_score,rfc_f1_score,gbc_f1_score,adb_f1_score,vc_f1_score]\n"
   ]
  },
  {
   "cell_type": "code",
   "execution_count": 116,
   "metadata": {
    "scrolled": true
   },
   "outputs": [
    {
     "data": {
      "text/html": [
       "<div>\n",
       "<style scoped>\n",
       "    .dataframe tbody tr th:only-of-type {\n",
       "        vertical-align: middle;\n",
       "    }\n",
       "\n",
       "    .dataframe tbody tr th {\n",
       "        vertical-align: top;\n",
       "    }\n",
       "\n",
       "    .dataframe thead th {\n",
       "        text-align: right;\n",
       "    }\n",
       "</style>\n",
       "<table border=\"1\" class=\"dataframe\">\n",
       "  <thead>\n",
       "    <tr style=\"text-align: right;\">\n",
       "      <th></th>\n",
       "      <th>Train_accuracy</th>\n",
       "      <th>Test_accuracy</th>\n",
       "      <th>F1_score</th>\n",
       "    </tr>\n",
       "    <tr>\n",
       "      <th>Model</th>\n",
       "      <th></th>\n",
       "      <th></th>\n",
       "      <th></th>\n",
       "    </tr>\n",
       "  </thead>\n",
       "  <tbody>\n",
       "    <tr>\n",
       "      <th>Votting classifier</th>\n",
       "      <td>0.831429</td>\n",
       "      <td>0.833333</td>\n",
       "      <td>0.892704</td>\n",
       "    </tr>\n",
       "    <tr>\n",
       "      <th>Random Forest</th>\n",
       "      <td>0.825714</td>\n",
       "      <td>0.813333</td>\n",
       "      <td>0.881356</td>\n",
       "    </tr>\n",
       "    <tr>\n",
       "      <th>Logistic regression</th>\n",
       "      <td>0.768571</td>\n",
       "      <td>0.820000</td>\n",
       "      <td>0.880000</td>\n",
       "    </tr>\n",
       "    <tr>\n",
       "      <th>SVC</th>\n",
       "      <td>0.802857</td>\n",
       "      <td>0.800000</td>\n",
       "      <td>0.870690</td>\n",
       "    </tr>\n",
       "    <tr>\n",
       "      <th>Decision tree</th>\n",
       "      <td>0.782857</td>\n",
       "      <td>0.793333</td>\n",
       "      <td>0.863436</td>\n",
       "    </tr>\n",
       "    <tr>\n",
       "      <th>Gradient Boost</th>\n",
       "      <td>0.828571</td>\n",
       "      <td>0.780000</td>\n",
       "      <td>0.854626</td>\n",
       "    </tr>\n",
       "    <tr>\n",
       "      <th>Ada Boost</th>\n",
       "      <td>0.862857</td>\n",
       "      <td>0.773333</td>\n",
       "      <td>0.848214</td>\n",
       "    </tr>\n",
       "  </tbody>\n",
       "</table>\n",
       "</div>"
      ],
      "text/plain": [
       "                     Train_accuracy  Test_accuracy  F1_score\n",
       "Model                                                       \n",
       "Votting classifier         0.831429       0.833333  0.892704\n",
       "Random Forest              0.825714       0.813333  0.881356\n",
       "Logistic regression        0.768571       0.820000  0.880000\n",
       "SVC                        0.802857       0.800000  0.870690\n",
       "Decision tree              0.782857       0.793333  0.863436\n",
       "Gradient Boost             0.828571       0.780000  0.854626\n",
       "Ada Boost                  0.862857       0.773333  0.848214"
      ]
     },
     "execution_count": 116,
     "metadata": {},
     "output_type": "execute_result"
    }
   ],
   "source": [
    "#Creating the DataFrame\n",
    "\n",
    "Accuracy_f1_score_report=pd.DataFrame({'Model':Model,\n",
    "                                        'Train_accuracy':Train_accuracy,\n",
    "                                        'Test_accuracy':Test_accuracy,\n",
    "                                        'F1_score':F1_score},\n",
    "                                       index=np.arange(1,8,1))\n",
    "\n",
    "#Sorting by fi_score\n",
    "Accuracy_f1_score_report.sort_values(by='F1_score',\n",
    "                                     ascending=False,\n",
    "                                     inplace=True,\n",
    "                                     ignore_index=True)\n",
    "\n",
    "\n",
    "Accuracy_f1_score_report.set_index('Model')"
   ]
  },
  {
   "cell_type": "code",
   "execution_count": null,
   "metadata": {},
   "outputs": [],
   "source": []
  },
  {
   "cell_type": "markdown",
   "metadata": {},
   "source": [
    "# Confusion matrix"
   ]
  },
  {
   "cell_type": "markdown",
   "metadata": {},
   "source": [
    "### Calculating Confusion Matrix of the different models"
   ]
  },
  {
   "cell_type": "code",
   "execution_count": 117,
   "metadata": {},
   "outputs": [],
   "source": [
    "vc_matrix = confusion_matrix(y_test,vc_y_pred,labels=[1,0])\n",
    "rf_matrix = confusion_matrix(y_test,rfc_y_pred,labels=[1,0])\n",
    "lr_matrix =  confusion_matrix(y_test,lgr_y_pred,labels=[1,0])\n",
    "svc_matrix = confusion_matrix(y_test,Svc_y_pred,labels=[1,0])\n",
    "dc_matrix = confusion_matrix(y_test,tree_y_pred,labels=[1,0])\n",
    "gb_matrix = confusion_matrix(y_test,gbc_y_pred,labels=[1,0])\n",
    "ab_matrix = confusion_matrix(y_test,adb_y_pred,labels=[1,0])\n",
    "\n"
   ]
  },
  {
   "cell_type": "markdown",
   "metadata": {},
   "source": [
    "### Creating a function to plot confusion matrix "
   ]
  },
  {
   "cell_type": "code",
   "execution_count": 118,
   "metadata": {},
   "outputs": [],
   "source": [
    "def plot_metric(confusion, name,color_map):\n",
    "    plt.figure(figsize = (8,7))\n",
    "    group_names = ['True Negative','False Positive','False Negative','True Positive']\n",
    "    group_counts = [\"{0:0.0f}\".format(value) for value in\n",
    "    confusion.flatten()]\n",
    "    \n",
    "    group_percentages = [\"{0:.1%}\".format(value) for value in\n",
    "    confusion.flatten()/np.sum(confusion)]\n",
    "    \n",
    "    #Getting the labels\n",
    "    labels = [f\"{v1}\\n{v2}\\n{v3}\" for v1, v2, v3 in\n",
    "    zip(group_names,group_counts,group_percentages)]\n",
    "    \n",
    "    #Setting the labels\n",
    "    labels = np.asarray(labels).reshape(2,2)\n",
    "    ax = sns.heatmap(confusion, annot=labels, fmt='', cmap=color_map)\n",
    "    ax.set_title(f'{name}\\n',fontdict={'fontsize':25});\n",
    "    ax.set_xlabel('\\nPredicted Values',fontsize=16)\n",
    "    ax.set_ylabel('Actual Values ',fontsize=16);\n",
    "    \n",
    "    ## Ticket labels - List must be in alphabetical order\n",
    "    ax.xaxis.set_ticklabels(['Non-Creditworthy','Creditworthy'],fontsize=15)\n",
    "    ax.yaxis.set_ticklabels(['Non-Creditworthy','Creditworthy'],fontsize=15)\n",
    "    \n",
    "    ## Display the visualization of the Confusion Matrix.\n",
    "    plt.show()"
   ]
  },
  {
   "cell_type": "code",
   "execution_count": null,
   "metadata": {},
   "outputs": [],
   "source": []
  },
  {
   "cell_type": "code",
   "execution_count": null,
   "metadata": {},
   "outputs": [],
   "source": []
  },
  {
   "cell_type": "code",
   "execution_count": 119,
   "metadata": {},
   "outputs": [
    {
     "data": {
      "image/png": "[encoded data removed]",
      "text/plain": [
       "<Figure size 576x504 with 2 Axes>"
      ]
     },
     "metadata": {
      "needs_background": "light"
     },
     "output_type": "display_data"
    }
   ],
   "source": [
    "plot_metric(vc_matrix,'Votting Classifier','viridis')"
   ]
  },
  {
   "cell_type": "code",
   "execution_count": 120,
   "metadata": {},
   "outputs": [
    {
     "data": {
      "image/png": "[encoded data removed]",
      "text/plain": [
       "<Figure size 576x504 with 2 Axes>"
      ]
     },
     "metadata": {
      "needs_background": "light"
     },
     "output_type": "display_data"
    }
   ],
   "source": [
    "plot_metric(rf_matrix,'Random Forest Classifier','coolwarm')"
   ]
  },
  {
   "cell_type": "code",
   "execution_count": 121,
   "metadata": {},
   "outputs": [
    {
     "data": {
      "image/png": "[encoded data removed]",
      "text/plain": [
       "<Figure size 576x504 with 2 Axes>"
      ]
     },
     "metadata": {
      "needs_background": "light"
     },
     "output_type": "display_data"
    }
   ],
   "source": [
    "plot_metric(lr_matrix,'Logistic Regression Classifier','cividis')"
   ]
  },
  {
   "cell_type": "code",
   "execution_count": 122,
   "metadata": {},
   "outputs": [
    {
     "data": {
      "image/png": "[encoded data removed]",
      "text/plain": [
       "<Figure size 576x504 with 2 Axes>"
      ]
     },
     "metadata": {
      "needs_background": "light"
     },
     "output_type": "display_data"
    }
   ],
   "source": [
    "plot_metric(dc_matrix,'Decision Tree Classifier','turbo')"
   ]
  },
  {
   "cell_type": "code",
   "execution_count": null,
   "metadata": {},
   "outputs": [],
   "source": []
  },
  {
   "cell_type": "code",
   "execution_count": null,
   "metadata": {},
   "outputs": [],
   "source": []
  },
  {
   "cell_type": "code",
   "execution_count": 123,
   "metadata": {},
   "outputs": [
    {
     "data": {
      "image/png": "[encoded data removed]",
      "text/plain": [
       "<Figure size 576x504 with 2 Axes>"
      ]
     },
     "metadata": {
      "needs_background": "light"
     },
     "output_type": "display_data"
    }
   ],
   "source": [
    "plot_metric(svc_matrix,'Support Vector Classifier','cool')"
   ]
  },
  {
   "cell_type": "code",
   "execution_count": 124,
   "metadata": {},
   "outputs": [
    {
     "data": {
      "image/png": "[encoded data removed]",
      "text/plain": [
       "<Figure size 576x504 with 2 Axes>"
      ]
     },
     "metadata": {
      "needs_background": "light"
     },
     "output_type": "display_data"
    }
   ],
   "source": [
    "plot_metric(gb_matrix,'Gradient Boost Classifier','icefire')"
   ]
  },
  {
   "cell_type": "code",
   "execution_count": 125,
   "metadata": {},
   "outputs": [
    {
     "data": {
      "image/png": "[encoded data removed]",
      "text/plain": [
       "<Figure size 576x504 with 2 Axes>"
      ]
     },
     "metadata": {
      "needs_background": "light"
     },
     "output_type": "display_data"
    }
   ],
   "source": [
    "plot_metric(ab_matrix,'AdaBoost Classifier','Spectral_r')"
   ]
  },
  {
   "cell_type": "code",
   "execution_count": null,
   "metadata": {},
   "outputs": [],
   "source": []
  },
  {
   "cell_type": "markdown",
   "metadata": {},
   "source": [
    "### ROC Curve"
   ]
  },
  {
   "cell_type": "code",
   "execution_count": 126,
   "metadata": {},
   "outputs": [],
   "source": [
    "# predict probabilities\n",
    "pred_prob_dct = tree.predict_proba(X_test)\n",
    "pred_prob_lgr = lgr.predict_proba(X_test)\n",
    "pred_prob_svc = Svc_model.predict_proba(X_test)\n",
    "pred_prob_rfc = rfc.predict_proba(X_test)\n",
    "pred_prob_gb = gbc.predict_proba(X_test)\n",
    "pred_prob_adb = adb_clf.predict_proba(X_test)\n",
    "\n",
    "\n",
    "from sklearn.metrics import roc_curve\n",
    "\n",
    "# roc curve for models\n",
    "fpr1, tpr1, thresh1 = roc_curve(y_test, pred_prob_dct[:,1], pos_label=1)\n",
    "fpr2, tpr2, thresh2 = roc_curve(y_test, pred_prob_lgr[:,1], pos_label=1)\n",
    "fpr3, tpr3, thresh3 = roc_curve(y_test, pred_prob_svc[:,1], pos_label=1)\n",
    "fpr4, tpr4, thresh4 = roc_curve(y_test, pred_prob_rfc[:,1], pos_label=1)\n",
    "fpr5, tpr5, thresh5 = roc_curve(y_test, pred_prob_gb[:,1], pos_label=1)\n",
    "fpr6, tpr6, thresh6 = roc_curve(y_test, pred_prob_adb[:,1], pos_label=1)\n",
    "\n",
    "random_probs = [0 for i in range(len(y_test))]\n",
    "p_fpr, p_tpr, _ = roc_curve(y_test, random_probs, pos_label=1)"
   ]
  },
  {
   "cell_type": "code",
   "execution_count": 127,
   "metadata": {},
   "outputs": [
    {
     "data": {
      "image/png": "[encoded data removed]",
      "text/plain": [
       "<Figure size 864x576 with 1 Axes>"
      ]
     },
     "metadata": {},
     "output_type": "display_data"
    }
   ],
   "source": [
    "# matplotlib\n",
    "import matplotlib.pyplot as plt\n",
    "plt.style.use('seaborn')\n",
    "plt.figure(figsize=(12, 8))\n",
    "# plot roc curves\n",
    "plt.plot(fpr1, tpr1, linestyle='--',color='green', label='Decision Tree')\n",
    "plt.plot(fpr2, tpr2, linestyle='--',color='orange', label='Logistic Regression')\n",
    "plt.plot(fpr3, tpr3, linestyle='--',color='black', label='SVC')\n",
    "plt.plot(fpr4, tpr4, linestyle='--',color='cyan', label='Random Forest')\n",
    "plt.plot(fpr5, tpr5, linestyle='--',color='magenta', label='Gradient Boost')\n",
    "plt.plot(fpr6, tpr6, linestyle='--',color='red', label='Adaboost')\n",
    "plt.plot(p_fpr, p_tpr, color='blue')\n",
    "\n",
    "\n",
    "\n",
    "\n",
    "# title\n",
    "plt.title('ROC curve',fontdict={'fontsize':20})\n",
    "# x label\n",
    "plt.xlabel('False Positive Rate')\n",
    "# y label\n",
    "plt.ylabel('True Positive rate')\n",
    "\n",
    "plt.legend(loc='best')\n",
    "plt.savefig('ROC',dpi=300)\n",
    "plt.show();"
   ]
  },
  {
   "cell_type": "code",
   "execution_count": null,
   "metadata": {},
   "outputs": [],
   "source": []
  },
  {
   "cell_type": "code",
   "execution_count": null,
   "metadata": {},
   "outputs": [],
   "source": []
  },
  {
   "cell_type": "code",
   "execution_count": null,
   "metadata": {},
   "outputs": [],
   "source": []
  },
  {
   "cell_type": "markdown",
   "metadata": {},
   "source": [
    "# The best model"
   ]
  },
  {
   "cell_type": "markdown",
   "metadata": {},
   "source": [
    "Considering the F1 scores and the confudion matrix of the different models, the votting Classifier emerges as the best performing model followed by the Random Forest  model, however, since management is concerned about feature importance, the Random Forest classifier is chosen because it provides information on feature importance."
   ]
  },
  {
   "cell_type": "code",
   "execution_count": null,
   "metadata": {},
   "outputs": [],
   "source": []
  },
  {
   "cell_type": "markdown",
   "metadata": {},
   "source": [
    "## 7.Feature-Importance"
   ]
  },
  {
   "cell_type": "code",
   "execution_count": 128,
   "metadata": {},
   "outputs": [
    {
     "data": {
      "text/plain": [
       "array([0.15012395, 0.18864555, 0.04313515, 0.07084903, 0.09922339,\n",
       "       0.02221168, 0.19251214, 0.01159312, 0.10770636, 0.01756786,\n",
       "       0.03195744, 0.01638111, 0.01030541, 0.02500245, 0.01278535])"
      ]
     },
     "execution_count": 128,
     "metadata": {},
     "output_type": "execute_result"
    }
   ],
   "source": [
    "rfc.feature_importances_"
   ]
  },
  {
   "cell_type": "code",
   "execution_count": 129,
   "metadata": {},
   "outputs": [],
   "source": [
    "Feature_importance=pd.DataFrame({'Features':X_train.columns,'Importance':rfc.feature_importances_})"
   ]
  },
  {
   "cell_type": "code",
   "execution_count": 130,
   "metadata": {},
   "outputs": [],
   "source": [
    "Feature_importance = Feature_importance.sort_values(by = 'Importance',ascending = False)"
   ]
  },
  {
   "cell_type": "code",
   "execution_count": 131,
   "metadata": {},
   "outputs": [
    {
     "data": {
      "image/png": "[encoded data removed]",
      "text/plain": [
       "<Figure size 720x432 with 1 Axes>"
      ]
     },
     "metadata": {},
     "output_type": "display_data"
    }
   ],
   "source": [
    "plt.figure(figsize=(10,6))\n",
    "sns.barplot(x='Importance',y='Features',data = Feature_importance, color = 'g',alpha = 0.4)\n",
    "plt.show()"
   ]
  },
  {
   "cell_type": "markdown",
   "metadata": {},
   "source": [
    "From the plot above, the first six importance featyres include:\n",
    "\n",
    "1. Account Balance\n",
    "2. Credit Amount\n",
    "3. Duration of Credit Amount\n",
    "4. Payment Status of Previous credit\n",
    "5. Age\n",
    "6. Most Valuable available asset.\n",
    "    "
   ]
  },
  {
   "cell_type": "markdown",
   "metadata": {},
   "source": [
    "# 6.Implementing-the-best-Best-model-with-test-data"
   ]
  },
  {
   "cell_type": "markdown",
   "metadata": {},
   "source": [
    "### Preprocessing the test data"
   ]
  },
  {
   "cell_type": "code",
   "execution_count": 132,
   "metadata": {},
   "outputs": [],
   "source": [
    "test_data = pd.read_excel('customers-to-score.xlsx')"
   ]
  },
  {
   "cell_type": "code",
   "execution_count": 133,
   "metadata": {},
   "outputs": [
    {
     "data": {
      "text/html": [
       "<div>\n",
       "<style scoped>\n",
       "    .dataframe tbody tr th:only-of-type {\n",
       "        vertical-align: middle;\n",
       "    }\n",
       "\n",
       "    .dataframe tbody tr th {\n",
       "        vertical-align: top;\n",
       "    }\n",
       "\n",
       "    .dataframe thead th {\n",
       "        text-align: right;\n",
       "    }\n",
       "</style>\n",
       "<table border=\"1\" class=\"dataframe\">\n",
       "  <thead>\n",
       "    <tr style=\"text-align: right;\">\n",
       "      <th></th>\n",
       "      <th>Account-Balance</th>\n",
       "      <th>Duration-of-Credit-Month</th>\n",
       "      <th>Payment-Status-of-Previous-Credit</th>\n",
       "      <th>Purpose</th>\n",
       "      <th>Credit-Amount</th>\n",
       "      <th>Value-Savings-Stocks</th>\n",
       "      <th>Length-of-current-employment</th>\n",
       "      <th>Instalment-per-cent</th>\n",
       "      <th>Guarantors</th>\n",
       "      <th>Duration-in-Current-address</th>\n",
       "      <th>Most-valuable-available-asset</th>\n",
       "      <th>Age-years</th>\n",
       "      <th>Concurrent-Credits</th>\n",
       "      <th>Type-of-apartment</th>\n",
       "      <th>No-of-Credits-at-this-Bank</th>\n",
       "      <th>Occupation</th>\n",
       "      <th>No-of-dependents</th>\n",
       "      <th>Telephone</th>\n",
       "      <th>Foreign-Worker</th>\n",
       "    </tr>\n",
       "  </thead>\n",
       "  <tbody>\n",
       "    <tr>\n",
       "      <th>0</th>\n",
       "      <td>No Account</td>\n",
       "      <td>9</td>\n",
       "      <td>No Problems (in this bank)</td>\n",
       "      <td>Home Related</td>\n",
       "      <td>2799</td>\n",
       "      <td>None</td>\n",
       "      <td>&lt; 1yr</td>\n",
       "      <td>2</td>\n",
       "      <td>None</td>\n",
       "      <td>2</td>\n",
       "      <td>1</td>\n",
       "      <td>36</td>\n",
       "      <td>Other Banks/Depts</td>\n",
       "      <td>1</td>\n",
       "      <td>More than 1</td>\n",
       "      <td>1</td>\n",
       "      <td>2</td>\n",
       "      <td>1</td>\n",
       "      <td>1</td>\n",
       "    </tr>\n",
       "    <tr>\n",
       "      <th>1</th>\n",
       "      <td>No Account</td>\n",
       "      <td>12</td>\n",
       "      <td>No Problems (in this bank)</td>\n",
       "      <td>Home Related</td>\n",
       "      <td>2122</td>\n",
       "      <td>None</td>\n",
       "      <td>&lt; 1yr</td>\n",
       "      <td>3</td>\n",
       "      <td>None</td>\n",
       "      <td>2</td>\n",
       "      <td>1</td>\n",
       "      <td>39</td>\n",
       "      <td>Other Banks/Depts</td>\n",
       "      <td>1</td>\n",
       "      <td>More than 1</td>\n",
       "      <td>1</td>\n",
       "      <td>2</td>\n",
       "      <td>1</td>\n",
       "      <td>2</td>\n",
       "    </tr>\n",
       "    <tr>\n",
       "      <th>2</th>\n",
       "      <td>No Account</td>\n",
       "      <td>24</td>\n",
       "      <td>Paid Up</td>\n",
       "      <td>Home Related</td>\n",
       "      <td>3758</td>\n",
       "      <td>£100-£1000</td>\n",
       "      <td>&lt; 1yr</td>\n",
       "      <td>1</td>\n",
       "      <td>None</td>\n",
       "      <td>4</td>\n",
       "      <td>4</td>\n",
       "      <td>23</td>\n",
       "      <td>Other Banks/Depts</td>\n",
       "      <td>1</td>\n",
       "      <td>1</td>\n",
       "      <td>1</td>\n",
       "      <td>1</td>\n",
       "      <td>1</td>\n",
       "      <td>1</td>\n",
       "    </tr>\n",
       "  </tbody>\n",
       "</table>\n",
       "</div>"
      ],
      "text/plain": [
       "  Account-Balance  Duration-of-Credit-Month Payment-Status-of-Previous-Credit  \\\n",
       "0      No Account                         9        No Problems (in this bank)   \n",
       "1      No Account                        12        No Problems (in this bank)   \n",
       "2      No Account                        24                           Paid Up   \n",
       "\n",
       "        Purpose  Credit-Amount Value-Savings-Stocks  \\\n",
       "0  Home Related           2799                 None   \n",
       "1  Home Related           2122                 None   \n",
       "2  Home Related           3758           £100-£1000   \n",
       "\n",
       "  Length-of-current-employment  Instalment-per-cent Guarantors  \\\n",
       "0                        < 1yr                    2       None   \n",
       "1                        < 1yr                    3       None   \n",
       "2                        < 1yr                    1       None   \n",
       "\n",
       "   Duration-in-Current-address  Most-valuable-available-asset  Age-years  \\\n",
       "0                            2                              1         36   \n",
       "1                            2                              1         39   \n",
       "2                            4                              4         23   \n",
       "\n",
       "  Concurrent-Credits  Type-of-apartment No-of-Credits-at-this-Bank  \\\n",
       "0  Other Banks/Depts                  1                More than 1   \n",
       "1  Other Banks/Depts                  1                More than 1   \n",
       "2  Other Banks/Depts                  1                          1   \n",
       "\n",
       "   Occupation  No-of-dependents  Telephone  Foreign-Worker  \n",
       "0           1                 2          1               1  \n",
       "1           1                 2          1               2  \n",
       "2           1                 1          1               1  "
      ]
     },
     "execution_count": 133,
     "metadata": {},
     "output_type": "execute_result"
    }
   ],
   "source": [
    "test_data.head(3)"
   ]
  },
  {
   "cell_type": "code",
   "execution_count": 134,
   "metadata": {},
   "outputs": [
    {
     "name": "stdout",
     "output_type": "stream",
     "text": [
      "Account-Balance\n",
      "Duration-of-Credit-Month\n",
      "Payment-Status-of-Previous-Credit\n",
      "Purpose\n",
      "Credit-Amount\n",
      "Value-Savings-Stocks\n",
      "Length-of-current-employment\n",
      "Instalment-per-cent\n",
      "Guarantors\n",
      "Duration-in-Current-address\n",
      "Most-valuable-available-asset\n",
      "Age-years\n",
      "Concurrent-Credits\n",
      "Type-of-apartment\n",
      "No-of-Credits-at-this-Bank\n",
      "Occupation\n",
      "No-of-dependents\n",
      "Telephone\n",
      "Foreign-Worker\n"
     ]
    }
   ],
   "source": [
    "for col in test_data.columns:\n",
    "    print(col)"
   ]
  },
  {
   "cell_type": "code",
   "execution_count": 135,
   "metadata": {},
   "outputs": [
    {
     "data": {
      "text/plain": [
       "Account-Balance                      0\n",
       "Duration-of-Credit-Month             0\n",
       "Payment-Status-of-Previous-Credit    0\n",
       "Purpose                              0\n",
       "Credit-Amount                        0\n",
       "Value-Savings-Stocks                 0\n",
       "Length-of-current-employment         0\n",
       "Instalment-per-cent                  0\n",
       "Guarantors                           0\n",
       "Duration-in-Current-address          0\n",
       "Most-valuable-available-asset        0\n",
       "Age-years                            0\n",
       "Concurrent-Credits                   0\n",
       "Type-of-apartment                    0\n",
       "No-of-Credits-at-this-Bank           0\n",
       "Occupation                           0\n",
       "No-of-dependents                     0\n",
       "Telephone                            0\n",
       "Foreign-Worker                       0\n",
       "dtype: int64"
      ]
     },
     "execution_count": 135,
     "metadata": {},
     "output_type": "execute_result"
    }
   ],
   "source": [
    "test_data.isnull().sum()"
   ]
  },
  {
   "cell_type": "markdown",
   "metadata": {},
   "source": [
    "### Dropping the columns that were dropped in the training data set"
   ]
  },
  {
   "cell_type": "code",
   "execution_count": 136,
   "metadata": {},
   "outputs": [],
   "source": [
    "test_data['Purpose'].replace({'Used car':'Not Home Related',\n",
    "                          'New car':'Not Home Related',\n",
    "                          'Other':'Not Home Related'},inplace=True)"
   ]
  },
  {
   "cell_type": "code",
   "execution_count": 137,
   "metadata": {},
   "outputs": [],
   "source": [
    "test_data.drop(['Occupation',\n",
    "            'Duration-in-Current-address',\n",
    "            'Concurrent-Credits',\n",
    "            'Telephone',\n",
    "            'Guarantors',\n",
    "            'Foreign-Worker',\n",
    "            'No-of-dependents'],\n",
    "           axis = 1,inplace = True)"
   ]
  },
  {
   "cell_type": "code",
   "execution_count": 138,
   "metadata": {},
   "outputs": [
    {
     "name": "stdout",
     "output_type": "stream",
     "text": [
      "Account-Balance\n",
      "Duration-of-Credit-Month\n",
      "Payment-Status-of-Previous-Credit\n",
      "Purpose\n",
      "Credit-Amount\n",
      "Value-Savings-Stocks\n",
      "Length-of-current-employment\n",
      "Instalment-per-cent\n",
      "Most-valuable-available-asset\n",
      "Age-years\n",
      "Type-of-apartment\n",
      "No-of-Credits-at-this-Bank\n"
     ]
    }
   ],
   "source": [
    "for col in test_data.columns:\n",
    "    print(col)"
   ]
  },
  {
   "cell_type": "code",
   "execution_count": null,
   "metadata": {},
   "outputs": [],
   "source": []
  },
  {
   "cell_type": "code",
   "execution_count": 139,
   "metadata": {},
   "outputs": [],
   "source": [
    "test_data = pd.get_dummies(test_data,columns =['Account-Balance',\n",
    "                                       'Payment-Status-of-Previous-Credit',\n",
    "                                          'Purpose',\n",
    "                                       'Value-Savings-Stocks',\n",
    "                                       'Length-of-current-employment',\n",
    "                                          'No-of-Credits-at-this-Bank'],\n",
    "                       drop_first = True) "
   ]
  },
  {
   "cell_type": "code",
   "execution_count": 140,
   "metadata": {},
   "outputs": [
    {
     "name": "stdout",
     "output_type": "stream",
     "text": [
      "Duration-of-Credit-Month\n",
      "Credit-Amount\n",
      "Instalment-per-cent\n",
      "Most-valuable-available-asset\n",
      "Age-years\n",
      "Type-of-apartment\n",
      "Account-Balance_Some Balance\n",
      "Payment-Status-of-Previous-Credit_Paid Up\n",
      "Payment-Status-of-Previous-Credit_Some Problems\n",
      "Purpose_Not Home Related\n",
      "Value-Savings-Stocks_None\n",
      "Value-Savings-Stocks_£100-£1000\n",
      "Length-of-current-employment_4-7 yrs\n",
      "Length-of-current-employment_< 1yr\n",
      "No-of-Credits-at-this-Bank_More than 1\n"
     ]
    }
   ],
   "source": [
    "for col in test_data.columns:\n",
    "    print(col)"
   ]
  },
  {
   "cell_type": "code",
   "execution_count": 141,
   "metadata": {},
   "outputs": [],
   "source": [
    "assert (X_train.columns == test_data.columns).all()"
   ]
  },
  {
   "cell_type": "code",
   "execution_count": null,
   "metadata": {},
   "outputs": [],
   "source": []
  },
  {
   "cell_type": "code",
   "execution_count": 142,
   "metadata": {},
   "outputs": [],
   "source": [
    "test_pred = rfc.predict(test_data)"
   ]
  },
  {
   "cell_type": "code",
   "execution_count": 143,
   "metadata": {
    "scrolled": false
   },
   "outputs": [
    {
     "data": {
      "text/plain": [
       "array([1, 1, 1, 1, 1, 1, 1, 1, 0, 1, 1, 1, 1, 1, 1, 1, 1, 1, 1, 1, 1, 1,\n",
       "       1, 1, 1, 1, 1, 1, 1, 1, 1, 1, 1, 1, 1, 1, 1, 1, 1, 1, 1, 1, 1, 1,\n",
       "       1, 1, 1, 1, 1, 1, 1, 1, 1, 1, 1, 0, 1, 1, 1, 1, 1, 1, 1, 1, 1, 1,\n",
       "       1, 1, 1, 1, 1, 0, 1, 1, 1, 1, 1, 1, 1, 1, 1, 1, 1, 1, 0, 1, 1, 1,\n",
       "       1, 1, 1, 1, 1, 1, 1, 1, 1, 0, 1, 1, 0, 1, 1, 1, 1, 1, 1, 1, 1, 1,\n",
       "       1, 1, 1, 1, 1, 1, 1, 1, 1, 1, 1, 1, 1, 1, 1, 1, 1, 1, 1, 1, 1, 1,\n",
       "       1, 1, 1, 1, 1, 1, 1, 1, 1, 1, 1, 1, 1, 1, 1, 1, 1, 1, 1, 1, 1, 1,\n",
       "       1, 1, 1, 1, 1, 1, 1, 1, 1, 1, 1, 1, 1, 1, 1, 1, 1, 1, 1, 1, 1, 1,\n",
       "       1, 1, 1, 1, 1, 1, 1, 1, 1, 1, 1, 1, 1, 1, 1, 1, 1, 1, 1, 1, 1, 1,\n",
       "       1, 1, 1, 1, 1, 1, 1, 1, 1, 1, 1, 1, 1, 1, 1, 1, 0, 1, 1, 1, 1, 1,\n",
       "       1, 1, 1, 1, 1, 1, 1, 1, 1, 1, 1, 1, 1, 1, 1, 1, 1, 1, 1, 1, 0, 1,\n",
       "       1, 1, 1, 1, 1, 1, 1, 1, 1, 1, 1, 1, 1, 1, 1, 1, 1, 1, 1, 1, 1, 0,\n",
       "       1, 1, 1, 1, 1, 1, 1, 1, 1, 0, 0, 1, 1, 1, 1, 1, 1, 1, 1, 1, 1, 1,\n",
       "       1, 1, 1, 0, 0, 0, 1, 1, 1, 1, 1, 1, 0, 1, 1, 1, 1, 1, 1, 1, 1, 1,\n",
       "       0, 1, 1, 1, 1, 1, 1, 0, 1, 1, 1, 1, 1, 1, 1, 1, 1, 1, 1, 1, 1, 1,\n",
       "       1, 1, 1, 0, 1, 1, 1, 1, 1, 1, 0, 1, 1, 1, 1, 1, 1, 1, 1, 1, 1, 1,\n",
       "       1, 0, 1, 1, 0, 1, 1, 1, 0, 1, 0, 1, 0, 1, 1, 1, 1, 1, 1, 1, 1, 0,\n",
       "       0, 1, 1, 1, 0, 1, 1, 1, 1, 0, 1, 1, 1, 1, 1, 0, 1, 1, 0, 1, 0, 1,\n",
       "       1, 1, 1, 1, 1, 0, 1, 0, 1, 1, 1, 1, 0, 1, 1, 1, 1, 0, 1, 1, 0, 1,\n",
       "       1, 1, 1, 0, 0, 0, 1, 1, 1, 1, 1, 1, 1, 0, 1, 0, 1, 1, 0, 0, 1, 1,\n",
       "       0, 1, 0, 1, 1, 1, 0, 1, 1, 1, 1, 0, 0, 1, 1, 0, 0, 0, 0, 1, 0, 0,\n",
       "       1, 1, 1, 1, 1, 0, 1, 0, 1, 1, 0, 1, 1, 1, 1, 1, 1, 1, 0, 1, 1, 0,\n",
       "       0, 1, 0, 1, 1, 1, 1, 1, 1, 1, 1, 1, 0, 1, 1, 1], dtype=int64)"
      ]
     },
     "execution_count": 143,
     "metadata": {},
     "output_type": "execute_result"
    }
   ],
   "source": [
    "test_pred"
   ]
  },
  {
   "cell_type": "code",
   "execution_count": 144,
   "metadata": {},
   "outputs": [],
   "source": [
    "test_data['Prediction'] = test_pred"
   ]
  },
  {
   "cell_type": "code",
   "execution_count": 145,
   "metadata": {},
   "outputs": [],
   "source": [
    "test_data['Prediction'].replace({1:'Creditworthy',0:'Non-Creditworthy'},inplace =True)"
   ]
  },
  {
   "cell_type": "code",
   "execution_count": null,
   "metadata": {},
   "outputs": [],
   "source": []
  },
  {
   "cell_type": "code",
   "execution_count": null,
   "metadata": {},
   "outputs": [],
   "source": []
  },
  {
   "cell_type": "code",
   "execution_count": 146,
   "metadata": {},
   "outputs": [
    {
     "data": {
      "text/plain": [
       "0         Creditworthy\n",
       "1         Creditworthy\n",
       "2         Creditworthy\n",
       "3         Creditworthy\n",
       "4         Creditworthy\n",
       "5         Creditworthy\n",
       "6         Creditworthy\n",
       "7         Creditworthy\n",
       "8     Non-Creditworthy\n",
       "9         Creditworthy\n",
       "10        Creditworthy\n",
       "11        Creditworthy\n",
       "12        Creditworthy\n",
       "13        Creditworthy\n",
       "14        Creditworthy\n",
       "15        Creditworthy\n",
       "16        Creditworthy\n",
       "17        Creditworthy\n",
       "18        Creditworthy\n",
       "19        Creditworthy\n",
       "Name: Prediction, dtype: object"
      ]
     },
     "execution_count": 146,
     "metadata": {},
     "output_type": "execute_result"
    }
   ],
   "source": [
    "test_data['Prediction'].head(20)"
   ]
  },
  {
   "cell_type": "code",
   "execution_count": 147,
   "metadata": {},
   "outputs": [
    {
     "data": {
      "text/plain": [
       "Creditworthy        438\n",
       "Non-Creditworthy     62\n",
       "Name: Prediction, dtype: int64"
      ]
     },
     "execution_count": 147,
     "metadata": {},
     "output_type": "execute_result"
    }
   ],
   "source": [
    "test_data['Prediction'].value_counts()"
   ]
  },
  {
   "cell_type": "markdown",
   "metadata": {},
   "source": [
    "# 8.Summary"
   ]
  },
  {
   "cell_type": "markdown",
   "metadata": {},
   "source": [
    "In summary, to get the best classification model, Exploratory Data Analysis and Feature Engineering were carried out to help select input features for building models.\n",
    "\n",
    "Input Variables with less variations and input variables with over 30% missing values were dropped whilst variables with less than 30% missing values were handled appropriately.\n",
    "\n",
    "The original train dataset was split into train and test for building and validating models respectively.\n",
    "\n",
    "After comparing the different classification models using F1score, and confusion matrix, the Votting Classifier model and the Random Forest model emerged as the top performing models.\n",
    "\n",
    "But the Random Forest model was chosen over the Votting Classifier because of it's ability to return feature importance which was key to the management team as compared the Votting classifier model.\n",
    "\n",
    "The Random Forest model was used to predict apllicants who were credit worthy and those that are not and it found that 438 and \n",
    "\n",
    "62 were credit worthy and non-cerdit worthy repectively. \n"
   ]
  },
  {
   "cell_type": "markdown",
   "metadata": {},
   "source": [
    "# Thank You"
   ]
  },
  {
   "cell_type": "code",
   "execution_count": null,
   "metadata": {},
   "outputs": [],
   "source": []
  },
  {
   "cell_type": "code",
   "execution_count": 148,
   "metadata": {},
   "outputs": [
    {
     "name": "stdout",
     "output_type": "stream",
     "text": [
      " Volume in drive C is OS\n",
      " Volume Serial Number is A277-A192\n",
      "\n",
      " Directory of C:\\Users\\Owner\\Desktop\\Loan prediction Project\n",
      "\n",
      "07/07/2022  04:59 AM    <DIR>          .\n",
      "07/07/2022  04:28 AM    <DIR>          ..\n",
      "07/04/2022  03:37 AM    <DIR>          .ipynb_checkpoints\n",
      "07/04/2022  03:43 AM            38,910 credit-data-training.xlsx\n",
      "06/27/2022  04:45 PM            48,498 customers-to-score.xlsx\n",
      "06/27/2022  04:45 PM        21,041,885 Loan data.csv\n",
      "06/27/2022  04:45 PM             1,984 Loan Elegibility test_data.csv\n",
      "07/07/2022  04:59 AM           942,196 Loan Elegibilty Prediction Project.ipynb\n",
      "06/27/2022  04:45 PM           162,830 Loan Prediction-Solution.ipynb\n",
      "06/27/2022  04:45 PM            81,787 Loan Project.ipynb\n",
      "07/06/2022  04:26 AM            22,235 loan_train.csv\n",
      "06/27/2022  04:45 PM        21,041,664 Loans data.csv\n",
      "06/27/2022  04:45 PM        21,031,892 LoansTrainingSetV2.csv\n",
      "06/27/2022  04:45 PM             1,113 Predicted_Output.csv\n",
      "07/07/2022  04:57 AM           257,610 ROC.png\n",
      "06/27/2022  04:45 PM        13,467,006 survey_results_public.csv\n",
      "06/27/2022  04:45 PM           417,418 TBB PROJECT GA .ipynb\n",
      "06/27/2022  04:45 PM            21,957 test_data.csv\n",
      "06/27/2022  04:45 PM            38,013 train_data.csv\n",
      "06/27/2022  04:45 PM            56,533 Untitled.ipynb\n",
      "              17 File(s)     78,673,531 bytes\n",
      "               3 Dir(s)  30,692,548,608 bytes free\n"
     ]
    }
   ],
   "source": [
    "ls\n"
   ]
  },
  {
   "cell_type": "code",
   "execution_count": null,
   "metadata": {},
   "outputs": [],
   "source": []
  }
 ],
 "metadata": {
  "kernelspec": {
   "display_name": "Python 3 (ipykernel)",
   "language": "python",
   "name": "python3"
  },
  "language_info": {
   "codemirror_mode": {
    "name": "ipython",
    "version": 3
   },
   "file_extension": ".py",
   "mimetype": "text/x-python",
   "name": "python",
   "nbconvert_exporter": "python",
   "pygments_lexer": "ipython3",
   "version": "3.10.4"
  }
 },
 "nbformat": 4,
 "nbformat_minor": 4
}
